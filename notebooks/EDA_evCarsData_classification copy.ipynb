{
 "cells": [
  {
   "cell_type": "markdown",
   "id": "ca9f75e7",
   "metadata": {
    "papermill": {
     "duration": 0.050641,
     "end_time": "2021-12-28T14:41:56.802315",
     "exception": false,
     "start_time": "2021-12-28T14:41:56.751674",
     "status": "completed"
    },
    "tags": []
   },
   "source": [
    "**Import of Packages**"
   ]
  },
  {
   "cell_type": "code",
   "execution_count": 1,
   "id": "19605e60",
   "metadata": {},
   "outputs": [],
   "source": [
    "# !pip install statsmodels"
   ]
  },
  {
   "cell_type": "code",
   "execution_count": 3,
   "id": "9e631f1b",
   "metadata": {
    "_cell_guid": "b1076dfc-b9ad-4769-8c92-a6c4dae69d19",
    "_uuid": "8f2839f25d086af736a60e9eeb907d3b93b6e0e5",
    "execution": {
     "iopub.execute_input": "2021-12-28T14:41:56.910598Z",
     "iopub.status.busy": "2021-12-28T14:41:56.908741Z",
     "iopub.status.idle": "2021-12-28T14:41:58.883849Z",
     "shell.execute_reply": "2021-12-28T14:41:58.882967Z",
     "shell.execute_reply.started": "2021-12-28T13:57:06.245140Z"
    },
    "papermill": {
     "duration": 2.030257,
     "end_time": "2021-12-28T14:41:58.884045",
     "exception": false,
     "start_time": "2021-12-28T14:41:56.853788",
     "status": "completed"
    },
    "tags": []
   },
   "outputs": [],
   "source": [
    "import numpy as np \n",
    "import pandas as pd\n",
    "import matplotlib.pyplot as plt\n",
    "import seaborn as sb\n",
    "import statsmodels.api as sm"
   ]
  },
  {
   "cell_type": "markdown",
   "id": "7a077b8c",
   "metadata": {
    "papermill": {
     "duration": 0.048486,
     "end_time": "2021-12-28T14:41:58.982944",
     "exception": false,
     "start_time": "2021-12-28T14:41:58.934458",
     "status": "completed"
    },
    "tags": []
   },
   "source": [
    "**Import of the CSV file**"
   ]
  },
  {
   "cell_type": "code",
   "execution_count": 5,
   "id": "4c578232",
   "metadata": {},
   "outputs": [
    {
     "data": {
      "text/plain": [
       "['.gitattributes',\n",
       " 'app.py',\n",
       " 'datasets',\n",
       " '.git',\n",
       " 'notebooks',\n",
       " 'diagrams',\n",
       " 'README.md']"
      ]
     },
     "execution_count": 5,
     "metadata": {},
     "output_type": "execute_result"
    }
   ],
   "source": [
    "import os\n",
    "\n",
    "# path=\"../ej/\"\n",
    "path=\"../\"\n",
    "os.listdir(path)"
   ]
  },
  {
   "cell_type": "code",
   "execution_count": 6,
   "id": "681c9fcc",
   "metadata": {
    "execution": {
     "iopub.execute_input": "2021-12-28T14:41:59.087350Z",
     "iopub.status.busy": "2021-12-28T14:41:59.086613Z",
     "iopub.status.idle": "2021-12-28T14:41:59.105407Z",
     "shell.execute_reply": "2021-12-28T14:41:59.104749Z",
     "shell.execute_reply.started": "2021-12-28T13:57:08.462419Z"
    },
    "papermill": {
     "duration": 0.0739,
     "end_time": "2021-12-28T14:41:59.105577",
     "exception": false,
     "start_time": "2021-12-28T14:41:59.031677",
     "status": "completed"
    },
    "tags": []
   },
   "outputs": [],
   "source": [
    "df= pd.read_csv(path+'/datasets/evCarsData/ElectricCarData_Clean.csv')"
   ]
  },
  {
   "cell_type": "markdown",
   "id": "7e5341b7",
   "metadata": {
    "papermill": {
     "duration": 0.048651,
     "end_time": "2021-12-28T14:41:59.203199",
     "exception": false,
     "start_time": "2021-12-28T14:41:59.154548",
     "status": "completed"
    },
    "tags": []
   },
   "source": [
    "**Top five rows of the dataset**"
   ]
  },
  {
   "cell_type": "code",
   "execution_count": 7,
   "id": "cd63b9f2",
   "metadata": {},
   "outputs": [
    {
     "data": {
      "text/html": [
       "<div>\n",
       "<style scoped>\n",
       "    .dataframe tbody tr th:only-of-type {\n",
       "        vertical-align: middle;\n",
       "    }\n",
       "\n",
       "    .dataframe tbody tr th {\n",
       "        vertical-align: top;\n",
       "    }\n",
       "\n",
       "    .dataframe thead th {\n",
       "        text-align: right;\n",
       "    }\n",
       "</style>\n",
       "<table border=\"1\" class=\"dataframe\">\n",
       "  <thead>\n",
       "    <tr style=\"text-align: right;\">\n",
       "      <th></th>\n",
       "      <th>Brand</th>\n",
       "      <th>Model</th>\n",
       "      <th>AccelSec</th>\n",
       "      <th>TopSpeed_KmH</th>\n",
       "      <th>Range_Km</th>\n",
       "      <th>Efficiency_WhKm</th>\n",
       "      <th>FastCharge_KmH</th>\n",
       "      <th>RapidCharge</th>\n",
       "      <th>PowerTrain</th>\n",
       "      <th>PlugType</th>\n",
       "      <th>BodyStyle</th>\n",
       "      <th>Segment</th>\n",
       "      <th>Seats</th>\n",
       "      <th>PriceEuro</th>\n",
       "    </tr>\n",
       "  </thead>\n",
       "  <tbody>\n",
       "    <tr>\n",
       "      <th>0</th>\n",
       "      <td>Tesla</td>\n",
       "      <td>Model 3 Long Range Dual Motor</td>\n",
       "      <td>4.6</td>\n",
       "      <td>233</td>\n",
       "      <td>450</td>\n",
       "      <td>161</td>\n",
       "      <td>940</td>\n",
       "      <td>Yes</td>\n",
       "      <td>AWD</td>\n",
       "      <td>Type 2 CCS</td>\n",
       "      <td>Sedan</td>\n",
       "      <td>D</td>\n",
       "      <td>5</td>\n",
       "      <td>55480</td>\n",
       "    </tr>\n",
       "    <tr>\n",
       "      <th>1</th>\n",
       "      <td>Volkswagen</td>\n",
       "      <td>ID.3 Pure</td>\n",
       "      <td>10.0</td>\n",
       "      <td>160</td>\n",
       "      <td>270</td>\n",
       "      <td>167</td>\n",
       "      <td>250</td>\n",
       "      <td>Yes</td>\n",
       "      <td>RWD</td>\n",
       "      <td>Type 2 CCS</td>\n",
       "      <td>Hatchback</td>\n",
       "      <td>C</td>\n",
       "      <td>5</td>\n",
       "      <td>30000</td>\n",
       "    </tr>\n",
       "    <tr>\n",
       "      <th>2</th>\n",
       "      <td>Polestar</td>\n",
       "      <td>2</td>\n",
       "      <td>4.7</td>\n",
       "      <td>210</td>\n",
       "      <td>400</td>\n",
       "      <td>181</td>\n",
       "      <td>620</td>\n",
       "      <td>Yes</td>\n",
       "      <td>AWD</td>\n",
       "      <td>Type 2 CCS</td>\n",
       "      <td>Liftback</td>\n",
       "      <td>D</td>\n",
       "      <td>5</td>\n",
       "      <td>56440</td>\n",
       "    </tr>\n",
       "    <tr>\n",
       "      <th>3</th>\n",
       "      <td>BMW</td>\n",
       "      <td>iX3</td>\n",
       "      <td>6.8</td>\n",
       "      <td>180</td>\n",
       "      <td>360</td>\n",
       "      <td>206</td>\n",
       "      <td>560</td>\n",
       "      <td>Yes</td>\n",
       "      <td>RWD</td>\n",
       "      <td>Type 2 CCS</td>\n",
       "      <td>SUV</td>\n",
       "      <td>D</td>\n",
       "      <td>5</td>\n",
       "      <td>68040</td>\n",
       "    </tr>\n",
       "    <tr>\n",
       "      <th>4</th>\n",
       "      <td>Honda</td>\n",
       "      <td>e</td>\n",
       "      <td>9.5</td>\n",
       "      <td>145</td>\n",
       "      <td>170</td>\n",
       "      <td>168</td>\n",
       "      <td>190</td>\n",
       "      <td>Yes</td>\n",
       "      <td>RWD</td>\n",
       "      <td>Type 2 CCS</td>\n",
       "      <td>Hatchback</td>\n",
       "      <td>B</td>\n",
       "      <td>4</td>\n",
       "      <td>32997</td>\n",
       "    </tr>\n",
       "  </tbody>\n",
       "</table>\n",
       "</div>"
      ],
      "text/plain": [
       "         Brand                          Model  AccelSec  TopSpeed_KmH  \\\n",
       "0       Tesla   Model 3 Long Range Dual Motor       4.6           233   \n",
       "1  Volkswagen                       ID.3 Pure      10.0           160   \n",
       "2    Polestar                               2       4.7           210   \n",
       "3         BMW                            iX3        6.8           180   \n",
       "4       Honda                              e        9.5           145   \n",
       "\n",
       "   Range_Km  Efficiency_WhKm FastCharge_KmH RapidCharge PowerTrain  \\\n",
       "0       450              161            940         Yes        AWD   \n",
       "1       270              167            250         Yes        RWD   \n",
       "2       400              181            620         Yes        AWD   \n",
       "3       360              206            560         Yes        RWD   \n",
       "4       170              168            190         Yes        RWD   \n",
       "\n",
       "     PlugType  BodyStyle Segment  Seats  PriceEuro  \n",
       "0  Type 2 CCS      Sedan       D      5      55480  \n",
       "1  Type 2 CCS  Hatchback       C      5      30000  \n",
       "2  Type 2 CCS   Liftback       D      5      56440  \n",
       "3  Type 2 CCS        SUV       D      5      68040  \n",
       "4  Type 2 CCS  Hatchback       B      4      32997  "
      ]
     },
     "execution_count": 7,
     "metadata": {},
     "output_type": "execute_result"
    }
   ],
   "source": [
    "df.head()"
   ]
  },
  {
   "cell_type": "code",
   "execution_count": 8,
   "id": "6ebe8454",
   "metadata": {
    "execution": {
     "iopub.execute_input": "2021-12-28T14:41:59.310817Z",
     "iopub.status.busy": "2021-12-28T14:41:59.310095Z",
     "iopub.status.idle": "2021-12-28T14:41:59.331260Z",
     "shell.execute_reply": "2021-12-28T14:41:59.331763Z",
     "shell.execute_reply.started": "2021-12-28T13:57:08.486312Z"
    },
    "papermill": {
     "duration": 0.079729,
     "end_time": "2021-12-28T14:41:59.331933",
     "exception": false,
     "start_time": "2021-12-28T14:41:59.252204",
     "status": "completed"
    },
    "tags": []
   },
   "outputs": [
    {
     "data": {
      "text/html": [
       "<div>\n",
       "<style scoped>\n",
       "    .dataframe tbody tr th:only-of-type {\n",
       "        vertical-align: middle;\n",
       "    }\n",
       "\n",
       "    .dataframe tbody tr th {\n",
       "        vertical-align: top;\n",
       "    }\n",
       "\n",
       "    .dataframe thead th {\n",
       "        text-align: right;\n",
       "    }\n",
       "</style>\n",
       "<table border=\"1\" class=\"dataframe\">\n",
       "  <thead>\n",
       "    <tr style=\"text-align: right;\">\n",
       "      <th></th>\n",
       "      <th>Brand</th>\n",
       "      <th>Model</th>\n",
       "      <th>AccelSec</th>\n",
       "      <th>TopSpeed_KmH</th>\n",
       "      <th>Range_Km</th>\n",
       "      <th>Efficiency_WhKm</th>\n",
       "      <th>FastCharge_KmH</th>\n",
       "      <th>RapidCharge</th>\n",
       "      <th>PowerTrain</th>\n",
       "      <th>PlugType</th>\n",
       "      <th>BodyStyle</th>\n",
       "      <th>Segment</th>\n",
       "      <th>Seats</th>\n",
       "      <th>PriceEuro</th>\n",
       "    </tr>\n",
       "  </thead>\n",
       "  <tbody>\n",
       "    <tr>\n",
       "      <th>0</th>\n",
       "      <td>Tesla</td>\n",
       "      <td>Model 3 Long Range Dual Motor</td>\n",
       "      <td>4.6</td>\n",
       "      <td>233</td>\n",
       "      <td>450</td>\n",
       "      <td>161</td>\n",
       "      <td>940</td>\n",
       "      <td>Yes</td>\n",
       "      <td>AWD</td>\n",
       "      <td>Type 2 CCS</td>\n",
       "      <td>Sedan</td>\n",
       "      <td>D</td>\n",
       "      <td>5</td>\n",
       "      <td>55480</td>\n",
       "    </tr>\n",
       "    <tr>\n",
       "      <th>1</th>\n",
       "      <td>Volkswagen</td>\n",
       "      <td>ID.3 Pure</td>\n",
       "      <td>10.0</td>\n",
       "      <td>160</td>\n",
       "      <td>270</td>\n",
       "      <td>167</td>\n",
       "      <td>250</td>\n",
       "      <td>Yes</td>\n",
       "      <td>RWD</td>\n",
       "      <td>Type 2 CCS</td>\n",
       "      <td>Hatchback</td>\n",
       "      <td>C</td>\n",
       "      <td>5</td>\n",
       "      <td>30000</td>\n",
       "    </tr>\n",
       "    <tr>\n",
       "      <th>2</th>\n",
       "      <td>Polestar</td>\n",
       "      <td>2</td>\n",
       "      <td>4.7</td>\n",
       "      <td>210</td>\n",
       "      <td>400</td>\n",
       "      <td>181</td>\n",
       "      <td>620</td>\n",
       "      <td>Yes</td>\n",
       "      <td>AWD</td>\n",
       "      <td>Type 2 CCS</td>\n",
       "      <td>Liftback</td>\n",
       "      <td>D</td>\n",
       "      <td>5</td>\n",
       "      <td>56440</td>\n",
       "    </tr>\n",
       "    <tr>\n",
       "      <th>3</th>\n",
       "      <td>BMW</td>\n",
       "      <td>iX3</td>\n",
       "      <td>6.8</td>\n",
       "      <td>180</td>\n",
       "      <td>360</td>\n",
       "      <td>206</td>\n",
       "      <td>560</td>\n",
       "      <td>Yes</td>\n",
       "      <td>RWD</td>\n",
       "      <td>Type 2 CCS</td>\n",
       "      <td>SUV</td>\n",
       "      <td>D</td>\n",
       "      <td>5</td>\n",
       "      <td>68040</td>\n",
       "    </tr>\n",
       "    <tr>\n",
       "      <th>4</th>\n",
       "      <td>Honda</td>\n",
       "      <td>e</td>\n",
       "      <td>9.5</td>\n",
       "      <td>145</td>\n",
       "      <td>170</td>\n",
       "      <td>168</td>\n",
       "      <td>190</td>\n",
       "      <td>Yes</td>\n",
       "      <td>RWD</td>\n",
       "      <td>Type 2 CCS</td>\n",
       "      <td>Hatchback</td>\n",
       "      <td>B</td>\n",
       "      <td>4</td>\n",
       "      <td>32997</td>\n",
       "    </tr>\n",
       "  </tbody>\n",
       "</table>\n",
       "</div>"
      ],
      "text/plain": [
       "        Brand                          Model  AccelSec  TopSpeed_KmH  \\\n",
       "0       Tesla  Model 3 Long Range Dual Motor       4.6           233   \n",
       "1  Volkswagen                      ID.3 Pure      10.0           160   \n",
       "2    Polestar                              2       4.7           210   \n",
       "3         BMW                            iX3       6.8           180   \n",
       "4       Honda                              e       9.5           145   \n",
       "\n",
       "   Range_Km  Efficiency_WhKm FastCharge_KmH RapidCharge PowerTrain  \\\n",
       "0       450              161            940         Yes        AWD   \n",
       "1       270              167            250         Yes        RWD   \n",
       "2       400              181            620         Yes        AWD   \n",
       "3       360              206            560         Yes        RWD   \n",
       "4       170              168            190         Yes        RWD   \n",
       "\n",
       "     PlugType  BodyStyle Segment  Seats  PriceEuro  \n",
       "0  Type 2 CCS      Sedan       D      5      55480  \n",
       "1  Type 2 CCS  Hatchback       C      5      30000  \n",
       "2  Type 2 CCS   Liftback       D      5      56440  \n",
       "3  Type 2 CCS        SUV       D      5      68040  \n",
       "4  Type 2 CCS  Hatchback       B      4      32997  "
      ]
     },
     "execution_count": 8,
     "metadata": {},
     "output_type": "execute_result"
    }
   ],
   "source": [
    "\n",
    "# trim spaces from values of a column\n",
    "df['Brand'] = df['Brand'].str.strip()\n",
    "df['Model'] = df['Model'].str.strip()\n",
    "df.head()"
   ]
  },
  {
   "cell_type": "markdown",
   "id": "fb483147",
   "metadata": {
    "papermill": {
     "duration": 0.04929,
     "end_time": "2021-12-28T14:41:59.432619",
     "exception": false,
     "start_time": "2021-12-28T14:41:59.383329",
     "status": "completed"
    },
    "tags": []
   },
   "source": [
    "**Finding out the number of null values**"
   ]
  },
  {
   "cell_type": "markdown",
   "id": "444d72eb",
   "metadata": {
    "papermill": {
     "duration": 0.077595,
     "end_time": "2021-12-28T14:42:23.421313",
     "exception": false,
     "start_time": "2021-12-28T14:42:23.343718",
     "status": "completed"
    },
    "tags": []
   },
   "source": [
    "Majority of cars have 5 seats "
   ]
  },
  {
   "cell_type": "markdown",
   "id": "08186afb",
   "metadata": {
    "papermill": {
     "duration": 0.078401,
     "end_time": "2021-12-28T14:42:23.578470",
     "exception": false,
     "start_time": "2021-12-28T14:42:23.500069",
     "status": "completed"
    },
    "tags": []
   },
   "source": [
    "**Putting independent variables as x and dependent variable as y**"
   ]
  },
  {
   "cell_type": "code",
   "execution_count": 9,
   "id": "a4453e27",
   "metadata": {},
   "outputs": [],
   "source": [
    "# find cells with a particular value\n",
    "# replace a particilar value with another value in all coulmns\n",
    "df.replace(to_replace='-', value=np.nan, inplace=True)"
   ]
  },
  {
   "cell_type": "code",
   "execution_count": 10,
   "id": "11fd9f0f",
   "metadata": {},
   "outputs": [],
   "source": [
    "df.fillna(0,inplace=True)"
   ]
  },
  {
   "cell_type": "code",
   "execution_count": null,
   "id": "45c2ec56",
   "metadata": {},
   "outputs": [],
   "source": [
    "# encode the categorical variables  as numbers for machine leanring algorithms\n",
    "df['BrandCode'] = df['Brand'].astype('category').cat.codes\n",
    "df['ModelCode'] = df['Model'].astype('category').cat.codes\n",
    "df[\"RapidChargeCode\"] = df[\"RapidCharge\"].astype('category').cat.codes\n",
    "df[\"PowerTrainCode\"] = df[\"PowerTrain\"].astype('category').cat.codes\n",
    "df[\"PlugTypeCode\"] = df[\"PlugType\"].astype('category').cat.codes\n",
    "df[\"BodyStyleCode\"] = df[\"BodyStyle\"].astype('category').cat.codes\n",
    "df[\"SegmentCode\"] = df[\"Segment\"].astype('category').cat.codes\n",
    "\n",
    "\n",
    "\n",
    "\n",
    "# change data type of a column from object to float\n",
    "df[\"Efficiency_WhKm\"] = df[\"Efficiency_WhKm\"].astype('float')\n",
    "df[\"FastCharge_KmH\"] = df[\"FastCharge_KmH\"].astype('float')\n",
    "# df['Brand'] = df['Brand'].astype('category')\n",
    "# df['Brand'].astype('category')\n",
    "df.head()"
   ]
  },
  {
   "cell_type": "code",
   "execution_count": 49,
   "id": "7fe65b5d",
   "metadata": {},
   "outputs": [],
   "source": [
    "Brand_dict= dict(zip( df.Brand,df.BrandCode))\n",
    "Model_dict= dict(zip( df.Model,df.ModelCode))\n",
    "RapidCharge_dict= dict(zip( df.RapidCharge,df.RapidChargeCode))\n",
    "PowerTrain_dict= dict(zip( df.PowerTrain,df.PowerTrainCode))\n",
    "PlugType_dict= dict(zip( df.PlugType,df.PlugTypeCode))\n",
    "BodyStyle_dict= dict(zip( df.BodyStyle,df.BodyStyleCode))\n",
    "Segment_dict= dict(zip( df.Segment,df.SegmentCode))\n",
    "\n",
    "config = {\"Brand_dict\":Brand_dict,\n",
    "          \"Model_dict\":Model_dict,\n",
    "          \"RapidCharge_dict\":RapidCharge_dict,\n",
    "          \"PowerTrain_dict\":PowerTrain_dict,\n",
    "          \"PlugType_dict\":PlugType_dict,\n",
    "          \"BodyStyle_dict\":BodyStyle_dict,\n",
    "          \"Segment_dict\":Segment_dict}\n",
    "\n",
    "#save the config file   \n",
    "import pickle\n",
    "with open(path+'config.pkl', 'wb') as f:\n",
    "    pickle.dump(config, f)\n",
    "    \n"
   ]
  },
  {
   "cell_type": "code",
   "execution_count": 48,
   "id": "7ec11098",
   "metadata": {},
   "outputs": [
    {
     "data": {
      "text/plain": [
       "{'Tesla': 30,\n",
       " 'Volkswagen': 31,\n",
       " 'Polestar': 23,\n",
       " 'BMW': 2,\n",
       " 'Honda': 9,\n",
       " 'Lucid': 15,\n",
       " 'Peugeot': 22,\n",
       " 'Audi': 1,\n",
       " 'Mercedes': 18,\n",
       " 'Nissan': 20,\n",
       " 'Hyundai': 10,\n",
       " 'Porsche': 24,\n",
       " 'MG': 16,\n",
       " 'Mini': 19,\n",
       " 'Opel': 21,\n",
       " 'Skoda': 27,\n",
       " 'Volvo': 32,\n",
       " 'Kia': 12,\n",
       " 'Renault': 25,\n",
       " 'Mazda': 17,\n",
       " 'Lexus': 13,\n",
       " 'CUPRA': 4,\n",
       " 'SEAT': 26,\n",
       " 'Lightyear': 14,\n",
       " 'Aiways': 0,\n",
       " 'DS': 6,\n",
       " 'Citroen': 5,\n",
       " 'Jaguar': 11,\n",
       " 'Ford': 8,\n",
       " 'Byton': 3,\n",
       " 'Sono': 29,\n",
       " 'Smart': 28,\n",
       " 'Fiat': 7}"
      ]
     },
     "execution_count": 48,
     "metadata": {},
     "output_type": "execute_result"
    }
   ],
   "source": [
    "Brand_dict"
   ]
  },
  {
   "cell_type": "code",
   "execution_count": 12,
   "id": "91b2c87f",
   "metadata": {},
   "outputs": [],
   "source": [
    "# [ 'AccelSec', 'TopSpeed_KmH', 'Range_Km',\n",
    "#        '`Efficiency_WhKm', 'FastCharge_KmH', 'RapidCharge',  'Seats', 'PriceEuro', 'BrandCode',\n",
    "#        'ModelCode', 'RapidChargeCode', 'PowerTrainCode', 'PlugTypeCode',\n",
    "#        'BodyStyleCode', 'SegmentCode']"
   ]
  },
  {
   "cell_type": "code",
   "execution_count": 13,
   "id": "dde76141",
   "metadata": {
    "execution": {
     "iopub.execute_input": "2021-12-28T14:42:23.742086Z",
     "iopub.status.busy": "2021-12-28T14:42:23.741138Z",
     "iopub.status.idle": "2021-12-28T14:42:23.743608Z",
     "shell.execute_reply": "2021-12-28T14:42:23.744104Z",
     "shell.execute_reply.started": "2021-12-28T13:57:27.872142Z"
    },
    "papermill": {
     "duration": 0.087176,
     "end_time": "2021-12-28T14:42:23.744308",
     "exception": false,
     "start_time": "2021-12-28T14:42:23.657132",
     "status": "completed"
    },
    "tags": []
   },
   "outputs": [],
   "source": [
    "x=df[['AccelSec',\n",
    " 'TopSpeed_KmH',\n",
    " 'Range_Km',\n",
    " 'Efficiency_WhKm',\n",
    " 'FastCharge_KmH',\n",
    " 'Seats',\n",
    " 'BrandCode',\n",
    " 'ModelCode',\n",
    " 'RapidChargeCode',\n",
    " 'PowerTrainCode',\n",
    " 'PlugTypeCode',\n",
    " 'BodyStyleCode',\n",
    " 'SegmentCode']]\n",
    "y=df['PriceEuro']"
   ]
  },
  {
   "cell_type": "markdown",
   "id": "fa2e29e9",
   "metadata": {
    "papermill": {
     "duration": 0.077689,
     "end_time": "2021-12-28T14:42:23.899486",
     "exception": false,
     "start_time": "2021-12-28T14:42:23.821797",
     "status": "completed"
    },
    "tags": []
   },
   "source": [
    "**Finding out the linear regression using OLS method**"
   ]
  },
  {
   "cell_type": "code",
   "execution_count": 14,
   "id": "a5b48fda",
   "metadata": {},
   "outputs": [
    {
     "name": "stdout",
     "output_type": "stream",
     "text": [
      "<class 'pandas.core.frame.DataFrame'>\n",
      "RangeIndex: 103 entries, 0 to 102\n",
      "Data columns (total 21 columns):\n",
      " #   Column           Non-Null Count  Dtype  \n",
      "---  ------           --------------  -----  \n",
      " 0   Brand            103 non-null    object \n",
      " 1   Model            103 non-null    object \n",
      " 2   AccelSec         103 non-null    float64\n",
      " 3   TopSpeed_KmH     103 non-null    int64  \n",
      " 4   Range_Km         103 non-null    int64  \n",
      " 5   Efficiency_WhKm  103 non-null    float64\n",
      " 6   FastCharge_KmH   103 non-null    float64\n",
      " 7   RapidCharge      103 non-null    object \n",
      " 8   PowerTrain       103 non-null    object \n",
      " 9   PlugType         103 non-null    object \n",
      " 10  BodyStyle        103 non-null    object \n",
      " 11  Segment          103 non-null    object \n",
      " 12  Seats            103 non-null    int64  \n",
      " 13  PriceEuro        103 non-null    int64  \n",
      " 14  BrandCode        103 non-null    int8   \n",
      " 15  ModelCode        103 non-null    int8   \n",
      " 16  RapidChargeCode  103 non-null    int8   \n",
      " 17  PowerTrainCode   103 non-null    int8   \n",
      " 18  PlugTypeCode     103 non-null    int8   \n",
      " 19  BodyStyleCode    103 non-null    int8   \n",
      " 20  SegmentCode      103 non-null    int8   \n",
      "dtypes: float64(3), int64(4), int8(7), object(7)\n",
      "memory usage: 12.1+ KB\n"
     ]
    }
   ],
   "source": [
    "df.info()"
   ]
  },
  {
   "cell_type": "code",
   "execution_count": 15,
   "id": "2e94edad",
   "metadata": {
    "execution": {
     "iopub.execute_input": "2021-12-28T14:42:24.065703Z",
     "iopub.status.busy": "2021-12-28T14:42:24.065001Z",
     "iopub.status.idle": "2021-12-28T14:42:24.073882Z",
     "shell.execute_reply": "2021-12-28T14:42:24.074416Z",
     "shell.execute_reply.started": "2021-12-28T13:57:27.883536Z"
    },
    "papermill": {
     "duration": 0.097369,
     "end_time": "2021-12-28T14:42:24.074633",
     "exception": false,
     "start_time": "2021-12-28T14:42:23.977264",
     "status": "completed"
    },
    "tags": []
   },
   "outputs": [],
   "source": [
    "x= sm.add_constant(x)\n",
    "results = sm.OLS(y,x)"
   ]
  },
  {
   "cell_type": "markdown",
   "id": "5a186548",
   "metadata": {
    "papermill": {
     "duration": 0.078042,
     "end_time": "2021-12-28T14:42:24.233492",
     "exception": false,
     "start_time": "2021-12-28T14:42:24.155450",
     "status": "completed"
    },
    "tags": []
   },
   "source": [
    "**Fitting the model and summarizing**"
   ]
  },
  {
   "cell_type": "code",
   "execution_count": 16,
   "id": "5bfa7d1e",
   "metadata": {
    "execution": {
     "iopub.execute_input": "2021-12-28T14:42:24.397633Z",
     "iopub.status.busy": "2021-12-28T14:42:24.396851Z",
     "iopub.status.idle": "2021-12-28T14:42:24.418903Z",
     "shell.execute_reply": "2021-12-28T14:42:24.418254Z",
     "shell.execute_reply.started": "2021-12-28T13:57:27.904519Z"
    },
    "papermill": {
     "duration": 0.106371,
     "end_time": "2021-12-28T14:42:24.419095",
     "exception": false,
     "start_time": "2021-12-28T14:42:24.312724",
     "status": "completed"
    },
    "tags": []
   },
   "outputs": [
    {
     "data": {
      "text/html": [
       "<table class=\"simpletable\">\n",
       "<caption>OLS Regression Results</caption>\n",
       "<tr>\n",
       "  <th>Dep. Variable:</th>        <td>PriceEuro</td>    <th>  R-squared:         </th> <td>   0.831</td>\n",
       "</tr>\n",
       "<tr>\n",
       "  <th>Model:</th>                   <td>OLS</td>       <th>  Adj. R-squared:    </th> <td>   0.806</td>\n",
       "</tr>\n",
       "<tr>\n",
       "  <th>Method:</th>             <td>Least Squares</td>  <th>  F-statistic:       </th> <td>   33.60</td>\n",
       "</tr>\n",
       "<tr>\n",
       "  <th>Date:</th>             <td>Mon, 17 Apr 2023</td> <th>  Prob (F-statistic):</th> <td>1.03e-28</td>\n",
       "</tr>\n",
       "<tr>\n",
       "  <th>Time:</th>                 <td>21:54:41</td>     <th>  Log-Likelihood:    </th> <td> -1129.3</td>\n",
       "</tr>\n",
       "<tr>\n",
       "  <th>No. Observations:</th>      <td>   103</td>      <th>  AIC:               </th> <td>   2287.</td>\n",
       "</tr>\n",
       "<tr>\n",
       "  <th>Df Residuals:</th>          <td>    89</td>      <th>  BIC:               </th> <td>   2323.</td>\n",
       "</tr>\n",
       "<tr>\n",
       "  <th>Df Model:</th>              <td>    13</td>      <th>                     </th>     <td> </td>   \n",
       "</tr>\n",
       "<tr>\n",
       "  <th>Covariance Type:</th>      <td>nonrobust</td>    <th>                     </th>     <td> </td>   \n",
       "</tr>\n",
       "</table>\n",
       "<table class=\"simpletable\">\n",
       "<tr>\n",
       "         <td></td>            <th>coef</th>     <th>std err</th>      <th>t</th>      <th>P>|t|</th>  <th>[0.025</th>    <th>0.975]</th>  \n",
       "</tr>\n",
       "<tr>\n",
       "  <th>const</th>           <td> 3.412e+04</td> <td> 3.37e+04</td> <td>    1.011</td> <td> 0.315</td> <td>-3.29e+04</td> <td> 1.01e+05</td>\n",
       "</tr>\n",
       "<tr>\n",
       "  <th>AccelSec</th>        <td> -390.8667</td> <td> 1157.720</td> <td>   -0.338</td> <td> 0.736</td> <td>-2691.231</td> <td> 1909.498</td>\n",
       "</tr>\n",
       "<tr>\n",
       "  <th>TopSpeed_KmH</th>    <td>  293.0374</td> <td>   86.848</td> <td>    3.374</td> <td> 0.001</td> <td>  120.472</td> <td>  465.602</td>\n",
       "</tr>\n",
       "<tr>\n",
       "  <th>Range_Km</th>        <td>   38.2874</td> <td>   21.751</td> <td>    1.760</td> <td> 0.082</td> <td>   -4.932</td> <td>   81.507</td>\n",
       "</tr>\n",
       "<tr>\n",
       "  <th>Efficiency_WhKm</th> <td>  -67.8685</td> <td>   75.062</td> <td>   -0.904</td> <td> 0.368</td> <td> -217.015</td> <td>   81.278</td>\n",
       "</tr>\n",
       "<tr>\n",
       "  <th>FastCharge_KmH</th>  <td>  -11.2537</td> <td>   14.580</td> <td>   -0.772</td> <td> 0.442</td> <td>  -40.223</td> <td>   17.715</td>\n",
       "</tr>\n",
       "<tr>\n",
       "  <th>Seats</th>           <td>-1.269e+04</td> <td> 2697.447</td> <td>   -4.705</td> <td> 0.000</td> <td>-1.81e+04</td> <td>-7331.658</td>\n",
       "</tr>\n",
       "<tr>\n",
       "  <th>BrandCode</th>       <td>   24.8927</td> <td>  186.169</td> <td>    0.134</td> <td> 0.894</td> <td> -345.021</td> <td>  394.806</td>\n",
       "</tr>\n",
       "<tr>\n",
       "  <th>ModelCode</th>       <td>  127.8068</td> <td>   58.840</td> <td>    2.172</td> <td> 0.033</td> <td>   10.893</td> <td>  244.720</td>\n",
       "</tr>\n",
       "<tr>\n",
       "  <th>RapidChargeCode</th> <td> 1892.3517</td> <td> 1.15e+04</td> <td>    0.164</td> <td> 0.870</td> <td> -2.1e+04</td> <td> 2.48e+04</td>\n",
       "</tr>\n",
       "<tr>\n",
       "  <th>PowerTrainCode</th>  <td>-6499.3712</td> <td> 2449.677</td> <td>   -2.653</td> <td> 0.009</td> <td>-1.14e+04</td> <td>-1631.914</td>\n",
       "</tr>\n",
       "<tr>\n",
       "  <th>PlugTypeCode</th>    <td> 4386.9908</td> <td> 5259.981</td> <td>    0.834</td> <td> 0.406</td> <td>-6064.479</td> <td> 1.48e+04</td>\n",
       "</tr>\n",
       "<tr>\n",
       "  <th>BodyStyleCode</th>   <td>  114.4619</td> <td>  783.718</td> <td>    0.146</td> <td> 0.884</td> <td>-1442.769</td> <td> 1671.692</td>\n",
       "</tr>\n",
       "<tr>\n",
       "  <th>SegmentCode</th>     <td> 1.017e+04</td> <td> 1841.911</td> <td>    5.519</td> <td> 0.000</td> <td> 6505.808</td> <td> 1.38e+04</td>\n",
       "</tr>\n",
       "</table>\n",
       "<table class=\"simpletable\">\n",
       "<tr>\n",
       "  <th>Omnibus:</th>       <td>45.142</td> <th>  Durbin-Watson:     </th> <td>   2.174</td>\n",
       "</tr>\n",
       "<tr>\n",
       "  <th>Prob(Omnibus):</th> <td> 0.000</td> <th>  Jarque-Bera (JB):  </th> <td> 147.824</td>\n",
       "</tr>\n",
       "<tr>\n",
       "  <th>Skew:</th>          <td> 1.497</td> <th>  Prob(JB):          </th> <td>7.95e-33</td>\n",
       "</tr>\n",
       "<tr>\n",
       "  <th>Kurtosis:</th>      <td> 8.048</td> <th>  Cond. No.          </th> <td>1.50e+04</td>\n",
       "</tr>\n",
       "</table><br/><br/>Notes:<br/>[1] Standard Errors assume that the covariance matrix of the errors is correctly specified.<br/>[2] The condition number is large, 1.5e+04. This might indicate that there are<br/>strong multicollinearity or other numerical problems."
      ],
      "text/plain": [
       "<class 'statsmodels.iolib.summary.Summary'>\n",
       "\"\"\"\n",
       "                            OLS Regression Results                            \n",
       "==============================================================================\n",
       "Dep. Variable:              PriceEuro   R-squared:                       0.831\n",
       "Model:                            OLS   Adj. R-squared:                  0.806\n",
       "Method:                 Least Squares   F-statistic:                     33.60\n",
       "Date:                Mon, 17 Apr 2023   Prob (F-statistic):           1.03e-28\n",
       "Time:                        21:54:41   Log-Likelihood:                -1129.3\n",
       "No. Observations:                 103   AIC:                             2287.\n",
       "Df Residuals:                      89   BIC:                             2323.\n",
       "Df Model:                          13                                         \n",
       "Covariance Type:            nonrobust                                         \n",
       "===================================================================================\n",
       "                      coef    std err          t      P>|t|      [0.025      0.975]\n",
       "-----------------------------------------------------------------------------------\n",
       "const            3.412e+04   3.37e+04      1.011      0.315   -3.29e+04    1.01e+05\n",
       "AccelSec         -390.8667   1157.720     -0.338      0.736   -2691.231    1909.498\n",
       "TopSpeed_KmH      293.0374     86.848      3.374      0.001     120.472     465.602\n",
       "Range_Km           38.2874     21.751      1.760      0.082      -4.932      81.507\n",
       "Efficiency_WhKm   -67.8685     75.062     -0.904      0.368    -217.015      81.278\n",
       "FastCharge_KmH    -11.2537     14.580     -0.772      0.442     -40.223      17.715\n",
       "Seats           -1.269e+04   2697.447     -4.705      0.000   -1.81e+04   -7331.658\n",
       "BrandCode          24.8927    186.169      0.134      0.894    -345.021     394.806\n",
       "ModelCode         127.8068     58.840      2.172      0.033      10.893     244.720\n",
       "RapidChargeCode  1892.3517   1.15e+04      0.164      0.870    -2.1e+04    2.48e+04\n",
       "PowerTrainCode  -6499.3712   2449.677     -2.653      0.009   -1.14e+04   -1631.914\n",
       "PlugTypeCode     4386.9908   5259.981      0.834      0.406   -6064.479    1.48e+04\n",
       "BodyStyleCode     114.4619    783.718      0.146      0.884   -1442.769    1671.692\n",
       "SegmentCode      1.017e+04   1841.911      5.519      0.000    6505.808    1.38e+04\n",
       "==============================================================================\n",
       "Omnibus:                       45.142   Durbin-Watson:                   2.174\n",
       "Prob(Omnibus):                  0.000   Jarque-Bera (JB):              147.824\n",
       "Skew:                           1.497   Prob(JB):                     7.95e-33\n",
       "Kurtosis:                       8.048   Cond. No.                     1.50e+04\n",
       "==============================================================================\n",
       "\n",
       "Notes:\n",
       "[1] Standard Errors assume that the covariance matrix of the errors is correctly specified.\n",
       "[2] The condition number is large, 1.5e+04. This might indicate that there are\n",
       "strong multicollinearity or other numerical problems.\n",
       "\"\"\""
      ]
     },
     "execution_count": 16,
     "metadata": {},
     "output_type": "execute_result"
    }
   ],
   "source": [
    "model=results.fit()\n",
    "model.summary()"
   ]
  },
  {
   "attachments": {},
   "cell_type": "markdown",
   "id": "336e1d47",
   "metadata": {
    "papermill": {
     "duration": 0.078687,
     "end_time": "2021-12-28T14:42:24.578765",
     "exception": false,
     "start_time": "2021-12-28T14:42:24.500078",
     "status": "completed"
    },
    "tags": []
   },
   "source": [
    "Only Top Speed and Range ,BrandCode,ModelCode,RapidChargeCode,PlugTypeCode,BodyStyleCode are important parameters since high coeeficient values\n"
   ]
  },
  {
   "cell_type": "markdown",
   "id": "4d75374c",
   "metadata": {
    "papermill": {
     "duration": 0.076868,
     "end_time": "2021-12-28T14:42:24.733199",
     "exception": false,
     "start_time": "2021-12-28T14:42:24.656331",
     "status": "completed"
    },
    "tags": []
   },
   "source": [
    "**Importing train test split from Scikit Learn**"
   ]
  },
  {
   "cell_type": "code",
   "execution_count": 17,
   "id": "d5cd3db0",
   "metadata": {
    "execution": {
     "iopub.execute_input": "2021-12-28T14:42:24.894856Z",
     "iopub.status.busy": "2021-12-28T14:42:24.894135Z",
     "iopub.status.idle": "2021-12-28T14:42:25.026064Z",
     "shell.execute_reply": "2021-12-28T14:42:25.025434Z",
     "shell.execute_reply.started": "2021-12-28T13:57:27.934162Z"
    },
    "papermill": {
     "duration": 0.215071,
     "end_time": "2021-12-28T14:42:25.026224",
     "exception": false,
     "start_time": "2021-12-28T14:42:24.811153",
     "status": "completed"
    },
    "tags": []
   },
   "outputs": [],
   "source": [
    "from sklearn.model_selection import train_test_split"
   ]
  },
  {
   "cell_type": "code",
   "execution_count": 18,
   "id": "d138ebf1",
   "metadata": {
    "execution": {
     "iopub.execute_input": "2021-12-28T14:42:25.194281Z",
     "iopub.status.busy": "2021-12-28T14:42:25.193556Z",
     "iopub.status.idle": "2021-12-28T14:42:25.197508Z",
     "shell.execute_reply": "2021-12-28T14:42:25.196755Z",
     "shell.execute_reply.started": "2021-12-28T13:57:28.070781Z"
    },
    "papermill": {
     "duration": 0.092252,
     "end_time": "2021-12-28T14:42:25.197666",
     "exception": false,
     "start_time": "2021-12-28T14:42:25.105414",
     "status": "completed"
    },
    "tags": []
   },
   "outputs": [],
   "source": [
    "X_train, X_test, y_train, y_test = train_test_split(x, y, test_size=0.3,random_state=365)"
   ]
  },
  {
   "cell_type": "markdown",
   "id": "98cc91ca",
   "metadata": {
    "papermill": {
     "duration": 0.077192,
     "end_time": "2021-12-28T14:42:25.354054",
     "exception": false,
     "start_time": "2021-12-28T14:42:25.276862",
     "status": "completed"
    },
    "tags": []
   },
   "source": [
    "**Importing Linear regression**"
   ]
  },
  {
   "cell_type": "code",
   "execution_count": 19,
   "id": "580be326",
   "metadata": {
    "execution": {
     "iopub.execute_input": "2021-12-28T14:42:25.518055Z",
     "iopub.status.busy": "2021-12-28T14:42:25.517322Z",
     "iopub.status.idle": "2021-12-28T14:42:25.607750Z",
     "shell.execute_reply": "2021-12-28T14:42:25.606941Z",
     "shell.execute_reply.started": "2021-12-28T13:57:28.082739Z"
    },
    "papermill": {
     "duration": 0.174836,
     "end_time": "2021-12-28T14:42:25.607919",
     "exception": false,
     "start_time": "2021-12-28T14:42:25.433083",
     "status": "completed"
    },
    "tags": []
   },
   "outputs": [],
   "source": [
    "from sklearn.linear_model import LinearRegression\n",
    "lr= LinearRegression()"
   ]
  },
  {
   "cell_type": "code",
   "execution_count": 20,
   "id": "b4cc0472",
   "metadata": {
    "execution": {
     "iopub.execute_input": "2021-12-28T14:42:25.776119Z",
     "iopub.status.busy": "2021-12-28T14:42:25.775288Z",
     "iopub.status.idle": "2021-12-28T14:42:25.777475Z",
     "shell.execute_reply": "2021-12-28T14:42:25.776966Z",
     "shell.execute_reply.started": "2021-12-28T13:57:28.185749Z"
    },
    "papermill": {
     "duration": 0.091219,
     "end_time": "2021-12-28T14:42:25.777634",
     "exception": false,
     "start_time": "2021-12-28T14:42:25.686415",
     "status": "completed"
    },
    "tags": []
   },
   "outputs": [],
   "source": [
    "lr.fit(X_train, y_train)\n",
    "pred = lr.predict(X_test)"
   ]
  },
  {
   "cell_type": "markdown",
   "id": "c7c34667",
   "metadata": {
    "papermill": {
     "duration": 0.07873,
     "end_time": "2021-12-28T14:42:25.935844",
     "exception": false,
     "start_time": "2021-12-28T14:42:25.857114",
     "status": "completed"
    },
    "tags": []
   },
   "source": [
    "**Finding out the R-squared value**"
   ]
  },
  {
   "cell_type": "code",
   "execution_count": 21,
   "id": "817384a8",
   "metadata": {
    "execution": {
     "iopub.execute_input": "2021-12-28T14:42:26.104670Z",
     "iopub.status.busy": "2021-12-28T14:42:26.103638Z",
     "iopub.status.idle": "2021-12-28T14:42:26.112308Z",
     "shell.execute_reply": "2021-12-28T14:42:26.112831Z",
     "shell.execute_reply.started": "2021-12-28T13:57:28.197278Z"
    },
    "papermill": {
     "duration": 0.094442,
     "end_time": "2021-12-28T14:42:26.113075",
     "exception": false,
     "start_time": "2021-12-28T14:42:26.018633",
     "status": "completed"
    },
    "tags": []
   },
   "outputs": [
    {
     "name": "stdout",
     "output_type": "stream",
     "text": [
      "78.20355108484324\n"
     ]
    }
   ],
   "source": [
    "from sklearn.metrics import r2_score\n",
    "r2=(r2_score(y_test,pred))\n",
    "print(r2*100)"
   ]
  },
  {
   "cell_type": "markdown",
   "id": "c017b4e3",
   "metadata": {
    "papermill": {
     "duration": 0.080259,
     "end_time": "2021-12-28T14:42:26.273291",
     "exception": false,
     "start_time": "2021-12-28T14:42:26.193032",
     "status": "completed"
    },
    "tags": []
   },
   "source": [
    "Around 78% of the dependant variable has been explained by the independant variables"
   ]
  },
  {
   "attachments": {},
   "cell_type": "markdown",
   "id": "a6e700b5",
   "metadata": {
    "papermill": {
     "duration": 0.078285,
     "end_time": "2021-12-28T14:42:26.432072",
     "exception": false,
     "start_time": "2021-12-28T14:42:26.353787",
     "status": "completed"
    },
    "tags": []
   },
   "source": [
    "**classification and car finding**"
   ]
  },
  {
   "cell_type": "code",
   "execution_count": 22,
   "id": "11b9a862",
   "metadata": {},
   "outputs": [],
   "source": [
    "x_df=df[['AccelSec',\n",
    " 'TopSpeed_KmH',\n",
    " 'Range_Km',\n",
    " 'Efficiency_WhKm',\n",
    " 'FastCharge_KmH',\n",
    " 'Seats',\n",
    " 'BrandCode',\n",
    " 'RapidChargeCode',\n",
    " 'PowerTrainCode',\n",
    " 'PlugTypeCode',\n",
    " 'BodyStyleCode',\n",
    " 'SegmentCode','PriceEuro',\"ModelCode\"]]\n",
    "# y=df['ModelCode']"
   ]
  },
  {
   "cell_type": "code",
   "execution_count": 23,
   "id": "df76e794",
   "metadata": {},
   "outputs": [],
   "source": [
    "#dataframe to array\n",
    "x=x_df.values"
   ]
  },
  {
   "cell_type": "code",
   "execution_count": 33,
   "id": "8b2333d5",
   "metadata": {},
   "outputs": [],
   "source": [
    "x[1]\n",
    "# apply min max scaler\n",
    "from sklearn.preprocessing import MinMaxScaler\n",
    "scaler = MinMaxScaler()\n",
    "x_scaled   = scaler.fit_transform(x)\n",
    "\n",
    "# save the scaler\n",
    "import pickle\n",
    "pickle.dump(scaler, open(path+'/scaler.pkl', 'wb'))"
   ]
  },
  {
   "cell_type": "code",
   "execution_count": 25,
   "id": "fed5a8bb",
   "metadata": {},
   "outputs": [
    {
     "data": {
      "text/plain": [
       "1"
      ]
     },
     "execution_count": 25,
     "metadata": {},
     "output_type": "execute_result"
    }
   ],
   "source": [
    "# cosine similarity\n",
    "from sklearn.metrics.pairwise import cosine_similarity\n",
    "scores=cosine_similarity(x_scaled,x_scaled[1].reshape(1,-1)) \n",
    "#argmax to get the index of the most similar row\n",
    "np.argmax(cosine_similarity(x_scaled,x_scaled[1].reshape(1,-1)))"
   ]
  },
  {
   "cell_type": "code",
   "execution_count": 26,
   "id": "58b03cf6",
   "metadata": {},
   "outputs": [],
   "source": [
    "df_sample=df.copy()"
   ]
  },
  {
   "cell_type": "code",
   "execution_count": 35,
   "id": "49ed8b91",
   "metadata": {},
   "outputs": [],
   "source": [
    "df_sample[\"score\"]=0\n",
    "df_sample.to_pickle(path+\"/df_sample.pkl\")"
   ]
  },
  {
   "cell_type": "code",
   "execution_count": 28,
   "id": "deffe9fa",
   "metadata": {},
   "outputs": [],
   "source": [
    "# sort the dataframe by score\n",
    "df_sample.sort_values(by=['score'],ascending=False,inplace=True)"
   ]
  },
  {
   "cell_type": "code",
   "execution_count": 29,
   "id": "49c263b5",
   "metadata": {},
   "outputs": [
    {
     "data": {
      "text/html": [
       "<div>\n",
       "<style scoped>\n",
       "    .dataframe tbody tr th:only-of-type {\n",
       "        vertical-align: middle;\n",
       "    }\n",
       "\n",
       "    .dataframe tbody tr th {\n",
       "        vertical-align: top;\n",
       "    }\n",
       "\n",
       "    .dataframe thead th {\n",
       "        text-align: right;\n",
       "    }\n",
       "</style>\n",
       "<table border=\"1\" class=\"dataframe\">\n",
       "  <thead>\n",
       "    <tr style=\"text-align: right;\">\n",
       "      <th></th>\n",
       "      <th>Brand</th>\n",
       "      <th>Model</th>\n",
       "      <th>AccelSec</th>\n",
       "      <th>TopSpeed_KmH</th>\n",
       "      <th>Range_Km</th>\n",
       "      <th>Efficiency_WhKm</th>\n",
       "      <th>FastCharge_KmH</th>\n",
       "      <th>RapidCharge</th>\n",
       "      <th>PowerTrain</th>\n",
       "      <th>PlugType</th>\n",
       "      <th>...</th>\n",
       "      <th>Seats</th>\n",
       "      <th>PriceEuro</th>\n",
       "      <th>BrandCode</th>\n",
       "      <th>ModelCode</th>\n",
       "      <th>RapidChargeCode</th>\n",
       "      <th>PowerTrainCode</th>\n",
       "      <th>PlugTypeCode</th>\n",
       "      <th>BodyStyleCode</th>\n",
       "      <th>SegmentCode</th>\n",
       "      <th>score</th>\n",
       "    </tr>\n",
       "  </thead>\n",
       "  <tbody>\n",
       "    <tr>\n",
       "      <th>1</th>\n",
       "      <td>Volkswagen</td>\n",
       "      <td>ID.3 Pure</td>\n",
       "      <td>10.0</td>\n",
       "      <td>160</td>\n",
       "      <td>270</td>\n",
       "      <td>167.0</td>\n",
       "      <td>250.0</td>\n",
       "      <td>Yes</td>\n",
       "      <td>RWD</td>\n",
       "      <td>Type 2 CCS</td>\n",
       "      <td>...</td>\n",
       "      <td>5</td>\n",
       "      <td>30000</td>\n",
       "      <td>31</td>\n",
       "      <td>33</td>\n",
       "      <td>1</td>\n",
       "      <td>2</td>\n",
       "      <td>2</td>\n",
       "      <td>1</td>\n",
       "      <td>2</td>\n",
       "      <td>1.000000</td>\n",
       "    </tr>\n",
       "    <tr>\n",
       "      <th>26</th>\n",
       "      <td>Volkswagen</td>\n",
       "      <td>ID.3 Pro</td>\n",
       "      <td>9.0</td>\n",
       "      <td>160</td>\n",
       "      <td>350</td>\n",
       "      <td>166.0</td>\n",
       "      <td>490.0</td>\n",
       "      <td>Yes</td>\n",
       "      <td>RWD</td>\n",
       "      <td>Type 2 CCS</td>\n",
       "      <td>...</td>\n",
       "      <td>5</td>\n",
       "      <td>33000</td>\n",
       "      <td>31</td>\n",
       "      <td>30</td>\n",
       "      <td>1</td>\n",
       "      <td>2</td>\n",
       "      <td>2</td>\n",
       "      <td>1</td>\n",
       "      <td>2</td>\n",
       "      <td>0.991579</td>\n",
       "    </tr>\n",
       "    <tr>\n",
       "      <th>95</th>\n",
       "      <td>Volkswagen</td>\n",
       "      <td>ID.3 Pro Performance</td>\n",
       "      <td>7.3</td>\n",
       "      <td>160</td>\n",
       "      <td>340</td>\n",
       "      <td>171.0</td>\n",
       "      <td>470.0</td>\n",
       "      <td>Yes</td>\n",
       "      <td>RWD</td>\n",
       "      <td>Type 2 CCS</td>\n",
       "      <td>...</td>\n",
       "      <td>5</td>\n",
       "      <td>35575</td>\n",
       "      <td>31</td>\n",
       "      <td>31</td>\n",
       "      <td>1</td>\n",
       "      <td>2</td>\n",
       "      <td>2</td>\n",
       "      <td>1</td>\n",
       "      <td>2</td>\n",
       "      <td>0.991040</td>\n",
       "    </tr>\n",
       "    <tr>\n",
       "      <th>80</th>\n",
       "      <td>Volkswagen</td>\n",
       "      <td>ID.3 1st</td>\n",
       "      <td>7.3</td>\n",
       "      <td>160</td>\n",
       "      <td>340</td>\n",
       "      <td>171.0</td>\n",
       "      <td>470.0</td>\n",
       "      <td>Yes</td>\n",
       "      <td>RWD</td>\n",
       "      <td>Type 2 CCS</td>\n",
       "      <td>...</td>\n",
       "      <td>5</td>\n",
       "      <td>38987</td>\n",
       "      <td>31</td>\n",
       "      <td>29</td>\n",
       "      <td>1</td>\n",
       "      <td>2</td>\n",
       "      <td>2</td>\n",
       "      <td>1</td>\n",
       "      <td>2</td>\n",
       "      <td>0.990736</td>\n",
       "    </tr>\n",
       "    <tr>\n",
       "      <th>15</th>\n",
       "      <td>Volkswagen</td>\n",
       "      <td>ID.3 Pro S</td>\n",
       "      <td>7.9</td>\n",
       "      <td>160</td>\n",
       "      <td>440</td>\n",
       "      <td>175.0</td>\n",
       "      <td>590.0</td>\n",
       "      <td>Yes</td>\n",
       "      <td>RWD</td>\n",
       "      <td>Type 2 CCS</td>\n",
       "      <td>...</td>\n",
       "      <td>4</td>\n",
       "      <td>40936</td>\n",
       "      <td>31</td>\n",
       "      <td>32</td>\n",
       "      <td>1</td>\n",
       "      <td>2</td>\n",
       "      <td>2</td>\n",
       "      <td>1</td>\n",
       "      <td>2</td>\n",
       "      <td>0.975134</td>\n",
       "    </tr>\n",
       "    <tr>\n",
       "      <th>19</th>\n",
       "      <td>Mini</td>\n",
       "      <td>Cooper SE</td>\n",
       "      <td>7.3</td>\n",
       "      <td>150</td>\n",
       "      <td>185</td>\n",
       "      <td>156.0</td>\n",
       "      <td>260.0</td>\n",
       "      <td>Yes</td>\n",
       "      <td>FWD</td>\n",
       "      <td>Type 2 CCS</td>\n",
       "      <td>...</td>\n",
       "      <td>4</td>\n",
       "      <td>31681</td>\n",
       "      <td>19</td>\n",
       "      <td>12</td>\n",
       "      <td>1</td>\n",
       "      <td>1</td>\n",
       "      <td>2</td>\n",
       "      <td>1</td>\n",
       "      <td>1</td>\n",
       "      <td>0.958725</td>\n",
       "    </tr>\n",
       "    <tr>\n",
       "      <th>74</th>\n",
       "      <td>Sono</td>\n",
       "      <td>Sion</td>\n",
       "      <td>9.0</td>\n",
       "      <td>140</td>\n",
       "      <td>225</td>\n",
       "      <td>156.0</td>\n",
       "      <td>270.0</td>\n",
       "      <td>Yes</td>\n",
       "      <td>FWD</td>\n",
       "      <td>Type 2 CCS</td>\n",
       "      <td>...</td>\n",
       "      <td>5</td>\n",
       "      <td>25500</td>\n",
       "      <td>29</td>\n",
       "      <td>64</td>\n",
       "      <td>1</td>\n",
       "      <td>1</td>\n",
       "      <td>2</td>\n",
       "      <td>1</td>\n",
       "      <td>2</td>\n",
       "      <td>0.958288</td>\n",
       "    </tr>\n",
       "    <tr>\n",
       "      <th>20</th>\n",
       "      <td>Opel</td>\n",
       "      <td>Corsa-e</td>\n",
       "      <td>8.1</td>\n",
       "      <td>150</td>\n",
       "      <td>275</td>\n",
       "      <td>164.0</td>\n",
       "      <td>420.0</td>\n",
       "      <td>Yes</td>\n",
       "      <td>FWD</td>\n",
       "      <td>Type 2 CCS</td>\n",
       "      <td>...</td>\n",
       "      <td>5</td>\n",
       "      <td>29146</td>\n",
       "      <td>21</td>\n",
       "      <td>13</td>\n",
       "      <td>1</td>\n",
       "      <td>1</td>\n",
       "      <td>2</td>\n",
       "      <td>1</td>\n",
       "      <td>1</td>\n",
       "      <td>0.955388</td>\n",
       "    </tr>\n",
       "    <tr>\n",
       "      <th>22</th>\n",
       "      <td>Skoda</td>\n",
       "      <td>Enyaq iV 50</td>\n",
       "      <td>10.0</td>\n",
       "      <td>160</td>\n",
       "      <td>290</td>\n",
       "      <td>179.0</td>\n",
       "      <td>230.0</td>\n",
       "      <td>Yes</td>\n",
       "      <td>RWD</td>\n",
       "      <td>Type 2 CCS</td>\n",
       "      <td>...</td>\n",
       "      <td>5</td>\n",
       "      <td>35000</td>\n",
       "      <td>27</td>\n",
       "      <td>23</td>\n",
       "      <td>1</td>\n",
       "      <td>2</td>\n",
       "      <td>2</td>\n",
       "      <td>6</td>\n",
       "      <td>2</td>\n",
       "      <td>0.953957</td>\n",
       "    </tr>\n",
       "    <tr>\n",
       "      <th>44</th>\n",
       "      <td>SEAT</td>\n",
       "      <td>Mii Electric</td>\n",
       "      <td>12.3</td>\n",
       "      <td>130</td>\n",
       "      <td>195</td>\n",
       "      <td>166.0</td>\n",
       "      <td>170.0</td>\n",
       "      <td>Yes</td>\n",
       "      <td>FWD</td>\n",
       "      <td>Type 2 CCS</td>\n",
       "      <td>...</td>\n",
       "      <td>4</td>\n",
       "      <td>20129</td>\n",
       "      <td>26</td>\n",
       "      <td>45</td>\n",
       "      <td>1</td>\n",
       "      <td>1</td>\n",
       "      <td>2</td>\n",
       "      <td>1</td>\n",
       "      <td>0</td>\n",
       "      <td>0.952364</td>\n",
       "    </tr>\n",
       "  </tbody>\n",
       "</table>\n",
       "<p>10 rows × 22 columns</p>\n",
       "</div>"
      ],
      "text/plain": [
       "         Brand                 Model  AccelSec  TopSpeed_KmH  Range_Km  \\\n",
       "1   Volkswagen             ID.3 Pure      10.0           160       270   \n",
       "26  Volkswagen              ID.3 Pro       9.0           160       350   \n",
       "95  Volkswagen  ID.3 Pro Performance       7.3           160       340   \n",
       "80  Volkswagen              ID.3 1st       7.3           160       340   \n",
       "15  Volkswagen            ID.3 Pro S       7.9           160       440   \n",
       "19        Mini             Cooper SE       7.3           150       185   \n",
       "74        Sono                  Sion       9.0           140       225   \n",
       "20        Opel               Corsa-e       8.1           150       275   \n",
       "22       Skoda           Enyaq iV 50      10.0           160       290   \n",
       "44        SEAT          Mii Electric      12.3           130       195   \n",
       "\n",
       "    Efficiency_WhKm  FastCharge_KmH RapidCharge PowerTrain    PlugType  ...  \\\n",
       "1             167.0           250.0         Yes        RWD  Type 2 CCS  ...   \n",
       "26            166.0           490.0         Yes        RWD  Type 2 CCS  ...   \n",
       "95            171.0           470.0         Yes        RWD  Type 2 CCS  ...   \n",
       "80            171.0           470.0         Yes        RWD  Type 2 CCS  ...   \n",
       "15            175.0           590.0         Yes        RWD  Type 2 CCS  ...   \n",
       "19            156.0           260.0         Yes        FWD  Type 2 CCS  ...   \n",
       "74            156.0           270.0         Yes        FWD  Type 2 CCS  ...   \n",
       "20            164.0           420.0         Yes        FWD  Type 2 CCS  ...   \n",
       "22            179.0           230.0         Yes        RWD  Type 2 CCS  ...   \n",
       "44            166.0           170.0         Yes        FWD  Type 2 CCS  ...   \n",
       "\n",
       "   Seats PriceEuro  BrandCode  ModelCode  RapidChargeCode  PowerTrainCode  \\\n",
       "1      5     30000         31         33                1               2   \n",
       "26     5     33000         31         30                1               2   \n",
       "95     5     35575         31         31                1               2   \n",
       "80     5     38987         31         29                1               2   \n",
       "15     4     40936         31         32                1               2   \n",
       "19     4     31681         19         12                1               1   \n",
       "74     5     25500         29         64                1               1   \n",
       "20     5     29146         21         13                1               1   \n",
       "22     5     35000         27         23                1               2   \n",
       "44     4     20129         26         45                1               1   \n",
       "\n",
       "    PlugTypeCode  BodyStyleCode  SegmentCode     score  \n",
       "1              2              1            2  1.000000  \n",
       "26             2              1            2  0.991579  \n",
       "95             2              1            2  0.991040  \n",
       "80             2              1            2  0.990736  \n",
       "15             2              1            2  0.975134  \n",
       "19             2              1            1  0.958725  \n",
       "74             2              1            2  0.958288  \n",
       "20             2              1            1  0.955388  \n",
       "22             2              6            2  0.953957  \n",
       "44             2              1            0  0.952364  \n",
       "\n",
       "[10 rows x 22 columns]"
      ]
     },
     "execution_count": 29,
     "metadata": {},
     "output_type": "execute_result"
    }
   ],
   "source": [
    "df_sample.head(10)"
   ]
  },
  {
   "cell_type": "code",
   "execution_count": 38,
   "id": "fcc43041",
   "metadata": {},
   "outputs": [
    {
     "data": {
      "text/plain": [
       "'../'"
      ]
     },
     "execution_count": 38,
     "metadata": {},
     "output_type": "execute_result"
    }
   ],
   "source": [
    "path"
   ]
  },
  {
   "cell_type": "code",
   "execution_count": 36,
   "id": "0988252b",
   "metadata": {},
   "outputs": [],
   "source": [
    "df_test=pd.read_pickle(path+\"/df_sample.pkl\")"
   ]
  },
  {
   "cell_type": "code",
   "execution_count": 37,
   "id": "4e53a4b0",
   "metadata": {},
   "outputs": [
    {
     "data": {
      "text/html": [
       "<div>\n",
       "<style scoped>\n",
       "    .dataframe tbody tr th:only-of-type {\n",
       "        vertical-align: middle;\n",
       "    }\n",
       "\n",
       "    .dataframe tbody tr th {\n",
       "        vertical-align: top;\n",
       "    }\n",
       "\n",
       "    .dataframe thead th {\n",
       "        text-align: right;\n",
       "    }\n",
       "</style>\n",
       "<table border=\"1\" class=\"dataframe\">\n",
       "  <thead>\n",
       "    <tr style=\"text-align: right;\">\n",
       "      <th></th>\n",
       "      <th>Brand</th>\n",
       "      <th>Model</th>\n",
       "      <th>AccelSec</th>\n",
       "      <th>TopSpeed_KmH</th>\n",
       "      <th>Range_Km</th>\n",
       "      <th>Efficiency_WhKm</th>\n",
       "      <th>FastCharge_KmH</th>\n",
       "      <th>RapidCharge</th>\n",
       "      <th>PowerTrain</th>\n",
       "      <th>PlugType</th>\n",
       "      <th>...</th>\n",
       "      <th>Seats</th>\n",
       "      <th>PriceEuro</th>\n",
       "      <th>BrandCode</th>\n",
       "      <th>ModelCode</th>\n",
       "      <th>RapidChargeCode</th>\n",
       "      <th>PowerTrainCode</th>\n",
       "      <th>PlugTypeCode</th>\n",
       "      <th>BodyStyleCode</th>\n",
       "      <th>SegmentCode</th>\n",
       "      <th>score</th>\n",
       "    </tr>\n",
       "  </thead>\n",
       "  <tbody>\n",
       "    <tr>\n",
       "      <th>91</th>\n",
       "      <td>Smart</td>\n",
       "      <td>EQ fortwo cabrio</td>\n",
       "      <td>11.9</td>\n",
       "      <td>130</td>\n",
       "      <td>95</td>\n",
       "      <td>176.0</td>\n",
       "      <td>0.0</td>\n",
       "      <td>No</td>\n",
       "      <td>RWD</td>\n",
       "      <td>Type 2</td>\n",
       "      <td>...</td>\n",
       "      <td>2</td>\n",
       "      <td>24565</td>\n",
       "      <td>28</td>\n",
       "      <td>18</td>\n",
       "      <td>0</td>\n",
       "      <td>2</td>\n",
       "      <td>1</td>\n",
       "      <td>0</td>\n",
       "      <td>0</td>\n",
       "      <td>0</td>\n",
       "    </tr>\n",
       "    <tr>\n",
       "      <th>94</th>\n",
       "      <td>Fiat</td>\n",
       "      <td>500e Convertible</td>\n",
       "      <td>9.0</td>\n",
       "      <td>150</td>\n",
       "      <td>250</td>\n",
       "      <td>168.0</td>\n",
       "      <td>330.0</td>\n",
       "      <td>Yes</td>\n",
       "      <td>FWD</td>\n",
       "      <td>Type 2 CCS</td>\n",
       "      <td>...</td>\n",
       "      <td>4</td>\n",
       "      <td>37900</td>\n",
       "      <td>7</td>\n",
       "      <td>2</td>\n",
       "      <td>1</td>\n",
       "      <td>1</td>\n",
       "      <td>2</td>\n",
       "      <td>0</td>\n",
       "      <td>1</td>\n",
       "      <td>0</td>\n",
       "    </tr>\n",
       "    <tr>\n",
       "      <th>7</th>\n",
       "      <td>Peugeot</td>\n",
       "      <td>e-208</td>\n",
       "      <td>8.1</td>\n",
       "      <td>150</td>\n",
       "      <td>275</td>\n",
       "      <td>164.0</td>\n",
       "      <td>420.0</td>\n",
       "      <td>Yes</td>\n",
       "      <td>FWD</td>\n",
       "      <td>Type 2 CCS</td>\n",
       "      <td>...</td>\n",
       "      <td>5</td>\n",
       "      <td>29682</td>\n",
       "      <td>22</td>\n",
       "      <td>81</td>\n",
       "      <td>1</td>\n",
       "      <td>1</td>\n",
       "      <td>2</td>\n",
       "      <td>1</td>\n",
       "      <td>1</td>\n",
       "      <td>0</td>\n",
       "    </tr>\n",
       "    <tr>\n",
       "      <th>31</th>\n",
       "      <td>Kia</td>\n",
       "      <td>e-Niro 64 kWh</td>\n",
       "      <td>7.8</td>\n",
       "      <td>167</td>\n",
       "      <td>370</td>\n",
       "      <td>173.0</td>\n",
       "      <td>350.0</td>\n",
       "      <td>Yes</td>\n",
       "      <td>FWD</td>\n",
       "      <td>Type 2 CCS</td>\n",
       "      <td>...</td>\n",
       "      <td>5</td>\n",
       "      <td>38105</td>\n",
       "      <td>12</td>\n",
       "      <td>86</td>\n",
       "      <td>1</td>\n",
       "      <td>1</td>\n",
       "      <td>2</td>\n",
       "      <td>6</td>\n",
       "      <td>2</td>\n",
       "      <td>0</td>\n",
       "    </tr>\n",
       "    <tr>\n",
       "      <th>71</th>\n",
       "      <td>Skoda</td>\n",
       "      <td>Enyaq iV 80X</td>\n",
       "      <td>7.0</td>\n",
       "      <td>160</td>\n",
       "      <td>400</td>\n",
       "      <td>193.0</td>\n",
       "      <td>540.0</td>\n",
       "      <td>Yes</td>\n",
       "      <td>AWD</td>\n",
       "      <td>Type 2 CCS</td>\n",
       "      <td>...</td>\n",
       "      <td>5</td>\n",
       "      <td>45000</td>\n",
       "      <td>27</td>\n",
       "      <td>26</td>\n",
       "      <td>1</td>\n",
       "      <td>0</td>\n",
       "      <td>2</td>\n",
       "      <td>6</td>\n",
       "      <td>2</td>\n",
       "      <td>0</td>\n",
       "    </tr>\n",
       "    <tr>\n",
       "      <th>75</th>\n",
       "      <td>Kia</td>\n",
       "      <td>e-Niro 39 kWh</td>\n",
       "      <td>9.8</td>\n",
       "      <td>155</td>\n",
       "      <td>235</td>\n",
       "      <td>167.0</td>\n",
       "      <td>230.0</td>\n",
       "      <td>Yes</td>\n",
       "      <td>FWD</td>\n",
       "      <td>Type 2 CCS</td>\n",
       "      <td>...</td>\n",
       "      <td>5</td>\n",
       "      <td>34400</td>\n",
       "      <td>12</td>\n",
       "      <td>85</td>\n",
       "      <td>1</td>\n",
       "      <td>1</td>\n",
       "      <td>2</td>\n",
       "      <td>6</td>\n",
       "      <td>2</td>\n",
       "      <td>0</td>\n",
       "    </tr>\n",
       "    <tr>\n",
       "      <th>24</th>\n",
       "      <td>Tesla</td>\n",
       "      <td>Model 3 Long Range Performance</td>\n",
       "      <td>3.4</td>\n",
       "      <td>261</td>\n",
       "      <td>435</td>\n",
       "      <td>167.0</td>\n",
       "      <td>910.0</td>\n",
       "      <td>Yes</td>\n",
       "      <td>AWD</td>\n",
       "      <td>Type 2 CCS</td>\n",
       "      <td>...</td>\n",
       "      <td>5</td>\n",
       "      <td>61480</td>\n",
       "      <td>30</td>\n",
       "      <td>47</td>\n",
       "      <td>1</td>\n",
       "      <td>0</td>\n",
       "      <td>2</td>\n",
       "      <td>7</td>\n",
       "      <td>3</td>\n",
       "      <td>0</td>\n",
       "    </tr>\n",
       "    <tr>\n",
       "      <th>14</th>\n",
       "      <td>Hyundai</td>\n",
       "      <td>IONIQ Electric</td>\n",
       "      <td>9.7</td>\n",
       "      <td>165</td>\n",
       "      <td>250</td>\n",
       "      <td>153.0</td>\n",
       "      <td>210.0</td>\n",
       "      <td>Yes</td>\n",
       "      <td>FWD</td>\n",
       "      <td>Type 2 CCS</td>\n",
       "      <td>...</td>\n",
       "      <td>5</td>\n",
       "      <td>34459</td>\n",
       "      <td>10</td>\n",
       "      <td>35</td>\n",
       "      <td>1</td>\n",
       "      <td>1</td>\n",
       "      <td>2</td>\n",
       "      <td>2</td>\n",
       "      <td>2</td>\n",
       "      <td>0</td>\n",
       "    </tr>\n",
       "    <tr>\n",
       "      <th>68</th>\n",
       "      <td>Renault</td>\n",
       "      <td>Kangoo Maxi ZE 33</td>\n",
       "      <td>22.4</td>\n",
       "      <td>130</td>\n",
       "      <td>160</td>\n",
       "      <td>194.0</td>\n",
       "      <td>0.0</td>\n",
       "      <td>No</td>\n",
       "      <td>FWD</td>\n",
       "      <td>Type 2</td>\n",
       "      <td>...</td>\n",
       "      <td>5</td>\n",
       "      <td>38000</td>\n",
       "      <td>25</td>\n",
       "      <td>36</td>\n",
       "      <td>0</td>\n",
       "      <td>1</td>\n",
       "      <td>1</td>\n",
       "      <td>5</td>\n",
       "      <td>6</td>\n",
       "      <td>0</td>\n",
       "    </tr>\n",
       "    <tr>\n",
       "      <th>18</th>\n",
       "      <td>MG</td>\n",
       "      <td>ZS EV</td>\n",
       "      <td>8.2</td>\n",
       "      <td>140</td>\n",
       "      <td>220</td>\n",
       "      <td>193.0</td>\n",
       "      <td>260.0</td>\n",
       "      <td>Yes</td>\n",
       "      <td>FWD</td>\n",
       "      <td>Type 2 CCS</td>\n",
       "      <td>...</td>\n",
       "      <td>5</td>\n",
       "      <td>30000</td>\n",
       "      <td>16</td>\n",
       "      <td>74</td>\n",
       "      <td>1</td>\n",
       "      <td>1</td>\n",
       "      <td>2</td>\n",
       "      <td>6</td>\n",
       "      <td>1</td>\n",
       "      <td>0</td>\n",
       "    </tr>\n",
       "  </tbody>\n",
       "</table>\n",
       "<p>10 rows × 22 columns</p>\n",
       "</div>"
      ],
      "text/plain": [
       "      Brand                           Model  AccelSec  TopSpeed_KmH  Range_Km  \\\n",
       "91    Smart                EQ fortwo cabrio      11.9           130        95   \n",
       "94     Fiat                500e Convertible       9.0           150       250   \n",
       "7   Peugeot                           e-208       8.1           150       275   \n",
       "31      Kia                   e-Niro 64 kWh       7.8           167       370   \n",
       "71    Skoda                    Enyaq iV 80X       7.0           160       400   \n",
       "75      Kia                   e-Niro 39 kWh       9.8           155       235   \n",
       "24    Tesla  Model 3 Long Range Performance       3.4           261       435   \n",
       "14  Hyundai                  IONIQ Electric       9.7           165       250   \n",
       "68  Renault               Kangoo Maxi ZE 33      22.4           130       160   \n",
       "18       MG                           ZS EV       8.2           140       220   \n",
       "\n",
       "    Efficiency_WhKm  FastCharge_KmH RapidCharge PowerTrain    PlugType  ...  \\\n",
       "91            176.0             0.0          No        RWD      Type 2  ...   \n",
       "94            168.0           330.0         Yes        FWD  Type 2 CCS  ...   \n",
       "7             164.0           420.0         Yes        FWD  Type 2 CCS  ...   \n",
       "31            173.0           350.0         Yes        FWD  Type 2 CCS  ...   \n",
       "71            193.0           540.0         Yes        AWD  Type 2 CCS  ...   \n",
       "75            167.0           230.0         Yes        FWD  Type 2 CCS  ...   \n",
       "24            167.0           910.0         Yes        AWD  Type 2 CCS  ...   \n",
       "14            153.0           210.0         Yes        FWD  Type 2 CCS  ...   \n",
       "68            194.0             0.0          No        FWD      Type 2  ...   \n",
       "18            193.0           260.0         Yes        FWD  Type 2 CCS  ...   \n",
       "\n",
       "   Seats PriceEuro  BrandCode  ModelCode  RapidChargeCode  PowerTrainCode  \\\n",
       "91     2     24565         28         18                0               2   \n",
       "94     4     37900          7          2                1               1   \n",
       "7      5     29682         22         81                1               1   \n",
       "31     5     38105         12         86                1               1   \n",
       "71     5     45000         27         26                1               0   \n",
       "75     5     34400         12         85                1               1   \n",
       "24     5     61480         30         47                1               0   \n",
       "14     5     34459         10         35                1               1   \n",
       "68     5     38000         25         36                0               1   \n",
       "18     5     30000         16         74                1               1   \n",
       "\n",
       "    PlugTypeCode  BodyStyleCode  SegmentCode  score  \n",
       "91             1              0            0      0  \n",
       "94             2              0            1      0  \n",
       "7              2              1            1      0  \n",
       "31             2              6            2      0  \n",
       "71             2              6            2      0  \n",
       "75             2              6            2      0  \n",
       "24             2              7            3      0  \n",
       "14             2              2            2      0  \n",
       "68             1              5            6      0  \n",
       "18             2              6            1      0  \n",
       "\n",
       "[10 rows x 22 columns]"
      ]
     },
     "execution_count": 37,
     "metadata": {},
     "output_type": "execute_result"
    }
   ],
   "source": [
    "df_test.sample(10)"
   ]
  },
  {
   "cell_type": "code",
   "execution_count": 42,
   "id": "f834dce5",
   "metadata": {},
   "outputs": [
    {
     "data": {
      "text/plain": [
       "array(['Tesla', 'Volkswagen', 'Polestar', 'BMW', 'Honda', 'Lucid',\n",
       "       'Peugeot', 'Audi', 'Mercedes', 'Nissan', 'Hyundai', 'Porsche',\n",
       "       'MG', 'Mini', 'Opel', 'Skoda', 'Volvo', 'Kia', 'Renault', 'Mazda',\n",
       "       'Lexus', 'CUPRA', 'SEAT', 'Lightyear', 'Aiways', 'DS', 'Citroen',\n",
       "       'Jaguar', 'Ford', 'Byton', 'Sono', 'Smart', 'Fiat', 'All'],\n",
       "      dtype=object)"
      ]
     },
     "execution_count": 42,
     "metadata": {},
     "output_type": "execute_result"
    }
   ],
   "source": [
    "# df['Brand'].unique().append([\"All\"])\n",
    "# append value to an array in numpy\n",
    "np.append(df['Brand'].unique(),[\"All\"])"
   ]
  },
  {
   "cell_type": "code",
   "execution_count": 43,
   "id": "581928c9",
   "metadata": {},
   "outputs": [
    {
     "data": {
      "text/plain": [
       "0      30\n",
       "1      31\n",
       "2      23\n",
       "3       2\n",
       "4       9\n",
       "       ..\n",
       "98     20\n",
       "99      1\n",
       "100    20\n",
       "101    20\n",
       "102     3\n",
       "Name: BrandCode, Length: 103, dtype: int8"
      ]
     },
     "execution_count": 43,
     "metadata": {},
     "output_type": "execute_result"
    }
   ],
   "source": [
    "df['BrandCode']"
   ]
  },
  {
   "cell_type": "code",
   "execution_count": 51,
   "id": "4cbd0916",
   "metadata": {},
   "outputs": [
    {
     "data": {
      "text/plain": [
       "22.4"
      ]
     },
     "execution_count": 51,
     "metadata": {},
     "output_type": "execute_result"
    }
   ],
   "source": [
    "df_sample[\"AccelSec\"].max()"
   ]
  },
  {
   "cell_type": "code",
   "execution_count": null,
   "id": "2f811ddd",
   "metadata": {},
   "outputs": [],
   "source": []
  }
 ],
 "metadata": {
  "kernelspec": {
   "display_name": "Python 3 (ipykernel)",
   "language": "python",
   "name": "python3"
  },
  "language_info": {
   "codemirror_mode": {
    "name": "ipython",
    "version": 3
   },
   "file_extension": ".py",
   "mimetype": "text/x-python",
   "name": "python",
   "nbconvert_exporter": "python",
   "pygments_lexer": "ipython3",
   "version": "3.8.10"
  },
  "papermill": {
   "default_parameters": {},
   "duration": 44.479391,
   "end_time": "2021-12-28T14:42:30.078407",
   "environment_variables": {},
   "exception": null,
   "input_path": "__notebook__.ipynb",
   "output_path": "__notebook__.ipynb",
   "parameters": {},
   "start_time": "2021-12-28T14:41:45.599016",
   "version": "2.3.3"
  },
  "vscode": {
   "interpreter": {
    "hash": "aee8b7b246df8f9039afb4144a1f6fd8d2ca17a180786b69acc140d282b71a49"
   }
  }
 },
 "nbformat": 4,
 "nbformat_minor": 5
}
