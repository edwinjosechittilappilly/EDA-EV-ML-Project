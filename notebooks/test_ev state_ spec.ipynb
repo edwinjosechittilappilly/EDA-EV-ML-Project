{
 "cells": [
  {
   "cell_type": "code",
   "execution_count": 5,
   "metadata": {},
   "outputs": [
    {
     "data": {
      "text/plain": [
       "['state-ev-registration-data',\n",
       " 'evCarsData',\n",
       " 'readme.md',\n",
       " 'ev_stations_v1.csv',\n",
       " 'ElectricityPricetable_5_06_a.xlsx',\n",
       " 'Tax Exempt by State.csv',\n",
       " 'Electric_Vehicle_Population_Data.csv',\n",
       " 'GasPrice.csv']"
      ]
     },
     "execution_count": 5,
     "metadata": {},
     "output_type": "execute_result"
    }
   ],
   "source": [
    "import os\n",
    "os.listdir(\"../datasets\")"
   ]
  },
  {
   "cell_type": "code",
   "execution_count": 7,
   "metadata": {},
   "outputs": [],
   "source": [
    "import pandas as pd\n",
    "df_spec= pd.read_csv('../datasets/evCarsData/ElectricCarData_Clean.csv')"
   ]
  },
  {
   "cell_type": "markdown",
   "metadata": {},
   "source": [
    "Spec Preprocess"
   ]
  },
  {
   "cell_type": "code",
   "execution_count": 11,
   "metadata": {},
   "outputs": [],
   "source": [
    "df_spec[\"Brand\"]= df_spec[\"Brand\"].str.upper()\n",
    "df_spec[\"Model\"]= df_spec[\"Model\"].str.upper()"
   ]
  },
  {
   "cell_type": "code",
   "execution_count": 12,
   "metadata": {},
   "outputs": [
    {
     "data": {
      "text/html": [
       "<div>\n",
       "<style scoped>\n",
       "    .dataframe tbody tr th:only-of-type {\n",
       "        vertical-align: middle;\n",
       "    }\n",
       "\n",
       "    .dataframe tbody tr th {\n",
       "        vertical-align: top;\n",
       "    }\n",
       "\n",
       "    .dataframe thead th {\n",
       "        text-align: right;\n",
       "    }\n",
       "</style>\n",
       "<table border=\"1\" class=\"dataframe\">\n",
       "  <thead>\n",
       "    <tr style=\"text-align: right;\">\n",
       "      <th></th>\n",
       "      <th>Brand</th>\n",
       "      <th>Model</th>\n",
       "      <th>AccelSec</th>\n",
       "      <th>TopSpeed_KmH</th>\n",
       "      <th>Range_Km</th>\n",
       "      <th>Efficiency_WhKm</th>\n",
       "      <th>FastCharge_KmH</th>\n",
       "      <th>RapidCharge</th>\n",
       "      <th>PowerTrain</th>\n",
       "      <th>PlugType</th>\n",
       "      <th>BodyStyle</th>\n",
       "      <th>Segment</th>\n",
       "      <th>Seats</th>\n",
       "      <th>PriceEuro</th>\n",
       "    </tr>\n",
       "  </thead>\n",
       "  <tbody>\n",
       "    <tr>\n",
       "      <th>38</th>\n",
       "      <td>RENAULT</td>\n",
       "      <td>ZOE ZE50 R135</td>\n",
       "      <td>9.5</td>\n",
       "      <td>140</td>\n",
       "      <td>310</td>\n",
       "      <td>168</td>\n",
       "      <td>230</td>\n",
       "      <td>Yes</td>\n",
       "      <td>FWD</td>\n",
       "      <td>Type 2 CCS</td>\n",
       "      <td>Hatchback</td>\n",
       "      <td>B</td>\n",
       "      <td>5</td>\n",
       "      <td>33133</td>\n",
       "    </tr>\n",
       "  </tbody>\n",
       "</table>\n",
       "</div>"
      ],
      "text/plain": [
       "       Brand          Model  AccelSec  TopSpeed_KmH  Range_Km   \n",
       "38  RENAULT   ZOE ZE50 R135       9.5           140       310  \\\n",
       "\n",
       "    Efficiency_WhKm FastCharge_KmH RapidCharge PowerTrain    PlugType   \n",
       "38              168            230         Yes        FWD  Type 2 CCS  \\\n",
       "\n",
       "    BodyStyle Segment  Seats  PriceEuro  \n",
       "38  Hatchback       B      5      33133  "
      ]
     },
     "execution_count": 12,
     "metadata": {},
     "output_type": "execute_result"
    }
   ],
   "source": [
    "df_spec.sample()"
   ]
  },
  {
   "cell_type": "code",
   "execution_count": 13,
   "metadata": {},
   "outputs": [
    {
     "data": {
      "text/plain": [
       "array(['D', 'C', 'B', 'F', 'A', 'E', 'N', 'S'], dtype=object)"
      ]
     },
     "execution_count": 13,
     "metadata": {},
     "output_type": "execute_result"
    }
   ],
   "source": [
    "df_spec[\"Segment\"].unique()"
   ]
  },
  {
   "cell_type": "markdown",
   "metadata": {},
   "source": [
    " state wise combined dataset\n",
    " "
   ]
  },
  {
   "cell_type": "code",
   "execution_count": 14,
   "metadata": {},
   "outputs": [],
   "source": [
    "df_combined=pd.read_csv(\"../../../../OneDrive - Western Michigan University/machine learning/project/datasets/\"+\"/combined_OR_Style.csv\",low_memory=False)"
   ]
  },
  {
   "cell_type": "code",
   "execution_count": 16,
   "metadata": {},
   "outputs": [
    {
     "data": {
      "text/html": [
       "<div>\n",
       "<style scoped>\n",
       "    .dataframe tbody tr th:only-of-type {\n",
       "        vertical-align: middle;\n",
       "    }\n",
       "\n",
       "    .dataframe tbody tr th {\n",
       "        vertical-align: top;\n",
       "    }\n",
       "\n",
       "    .dataframe thead th {\n",
       "        text-align: right;\n",
       "    }\n",
       "</style>\n",
       "<table border=\"1\" class=\"dataframe\">\n",
       "  <thead>\n",
       "    <tr style=\"text-align: right;\">\n",
       "      <th></th>\n",
       "      <th>State</th>\n",
       "      <th>Vehicle Make</th>\n",
       "      <th>Vehicle Model</th>\n",
       "      <th>Vehicle Model Year</th>\n",
       "    </tr>\n",
       "  </thead>\n",
       "  <tbody>\n",
       "    <tr>\n",
       "      <th>124019</th>\n",
       "      <td>NJ</td>\n",
       "      <td>TESLA</td>\n",
       "      <td>Model Y</td>\n",
       "      <td>2020.0</td>\n",
       "    </tr>\n",
       "  </tbody>\n",
       "</table>\n",
       "</div>"
      ],
      "text/plain": [
       "       State Vehicle Make Vehicle Model  Vehicle Model Year\n",
       "124019    NJ        TESLA       Model Y              2020.0"
      ]
     },
     "execution_count": 16,
     "metadata": {},
     "output_type": "execute_result"
    }
   ],
   "source": [
    "df_combined.sample()"
   ]
  },
  {
   "cell_type": "code",
   "execution_count": 15,
   "metadata": {},
   "outputs": [],
   "source": [
    "df_new=df_combined.copy()"
   ]
  },
  {
   "cell_type": "code",
   "execution_count": null,
   "metadata": {},
   "outputs": [],
   "source": [
    "# apply pandas apply on two columns\n",
    "df_new['Brand_Model'] = df_new.apply(lambda x: '{} {}'.format(x['Brand'], x['Model']), axis=1)"
   ]
  },
  {
   "cell_type": "code",
   "execution_count": 24,
   "metadata": {},
   "outputs": [
    {
     "data": {
      "text/plain": [
       "0      False\n",
       "1      False\n",
       "2      False\n",
       "3      False\n",
       "4      False\n",
       "       ...  \n",
       "98     False\n",
       "99     False\n",
       "100    False\n",
       "101    False\n",
       "102    False\n",
       "Name: Brand, Length: 103, dtype: bool"
      ]
     },
     "execution_count": 24,
     "metadata": {},
     "output_type": "execute_result"
    }
   ],
   "source": [
    "df_spec[\"Brand\"]==\"TESLA\""
   ]
  },
  {
   "cell_type": "code",
   "execution_count": 31,
   "metadata": {},
   "outputs": [
    {
     "data": {
      "text/plain": [
       "array(['TESLA ', 'VOLKSWAGEN ', 'POLESTAR ', 'BMW ', 'HONDA ', 'LUCID ',\n",
       "       'PEUGEOT ', 'AUDI ', 'MERCEDES ', 'NISSAN ', 'HYUNDAI ',\n",
       "       'PORSCHE ', 'MG ', 'MINI ', 'OPEL ', 'SKODA ', 'VOLVO ', 'KIA ',\n",
       "       'RENAULT ', 'MAZDA ', 'LEXUS ', 'CUPRA ', 'SEAT ', 'LIGHTYEAR ',\n",
       "       'AIWAYS ', 'DS ', 'CITROEN ', 'JAGUAR ', 'FORD ', 'BYTON ',\n",
       "       'SONO ', 'SMART ', 'FIAT '], dtype=object)"
      ]
     },
     "execution_count": 31,
     "metadata": {},
     "output_type": "execute_result"
    }
   ],
   "source": [
    "df_spec[\"Brand\"].unique()"
   ]
  },
  {
   "cell_type": "code",
   "execution_count": 62,
   "metadata": {},
   "outputs": [
    {
     "ename": "AttributeError",
     "evalue": "'Series' object has no attribute 'strip'",
     "output_type": "error",
     "traceback": [
      "\u001b[0;31m---------------------------------------------------------------------------\u001b[0m",
      "\u001b[0;31mAttributeError\u001b[0m                            Traceback (most recent call last)",
      "Cell \u001b[0;32mIn[62], line 1\u001b[0m\n\u001b[0;32m----> 1\u001b[0m state_car_models\u001b[39m=\u001b[39mdf_combined[\u001b[39m\"\u001b[39;49m\u001b[39mVehicle Model\u001b[39;49m\u001b[39m\"\u001b[39;49m]\u001b[39m.\u001b[39;49mstr\u001b[39m.\u001b[39;49mupper()\u001b[39m.\u001b[39;49mstrip()\u001b[39m.\u001b[39munique()\n",
      "File \u001b[0;32m/Library/Frameworks/Python.framework/Versions/3.10/lib/python3.10/site-packages/pandas/core/generic.py:5989\u001b[0m, in \u001b[0;36mNDFrame.__getattr__\u001b[0;34m(self, name)\u001b[0m\n\u001b[1;32m   5982\u001b[0m \u001b[39mif\u001b[39;00m (\n\u001b[1;32m   5983\u001b[0m     name \u001b[39mnot\u001b[39;00m \u001b[39min\u001b[39;00m \u001b[39mself\u001b[39m\u001b[39m.\u001b[39m_internal_names_set\n\u001b[1;32m   5984\u001b[0m     \u001b[39mand\u001b[39;00m name \u001b[39mnot\u001b[39;00m \u001b[39min\u001b[39;00m \u001b[39mself\u001b[39m\u001b[39m.\u001b[39m_metadata\n\u001b[1;32m   5985\u001b[0m     \u001b[39mand\u001b[39;00m name \u001b[39mnot\u001b[39;00m \u001b[39min\u001b[39;00m \u001b[39mself\u001b[39m\u001b[39m.\u001b[39m_accessors\n\u001b[1;32m   5986\u001b[0m     \u001b[39mand\u001b[39;00m \u001b[39mself\u001b[39m\u001b[39m.\u001b[39m_info_axis\u001b[39m.\u001b[39m_can_hold_identifiers_and_holds_name(name)\n\u001b[1;32m   5987\u001b[0m ):\n\u001b[1;32m   5988\u001b[0m     \u001b[39mreturn\u001b[39;00m \u001b[39mself\u001b[39m[name]\n\u001b[0;32m-> 5989\u001b[0m \u001b[39mreturn\u001b[39;00m \u001b[39mobject\u001b[39;49m\u001b[39m.\u001b[39;49m\u001b[39m__getattribute__\u001b[39;49m(\u001b[39mself\u001b[39;49m, name)\n",
      "\u001b[0;31mAttributeError\u001b[0m: 'Series' object has no attribute 'strip'"
     ]
    }
   ],
   "source": [
    "state_car_models=df_combined[\"Vehicle Model\"].str.upper().strip().unique()"
   ]
  },
  {
   "cell_type": "code",
   "execution_count": null,
   "metadata": {},
   "outputs": [],
   "source": [
    "# trim the space in the end of the string in columns\n"
   ]
  },
  {
   "cell_type": "code",
   "execution_count": 71,
   "metadata": {},
   "outputs": [],
   "source": [
    "df_spec[\"Model\"]=df_spec[\"Model\"].str.upper()\n",
    "df_spec[\"Model\"]=df_spec[\"Model\"].str.strip()"
   ]
  },
  {
   "cell_type": "code",
   "execution_count": 72,
   "metadata": {},
   "outputs": [],
   "source": [
    "spec_car_models=df_spec[\"Model\"].unique()"
   ]
  },
  {
   "cell_type": "code",
   "execution_count": 73,
   "metadata": {},
   "outputs": [
    {
     "data": {
      "text/plain": [
       "array(['FUSION', 'C-MAX', 'ESCAPE', 'RAV4 PRIME', 'PRIUS PLUG-IN',\n",
       "       'PRIUS PRIME', 'I3', '530E', 'I8', '330E', 'X3', '740E', '745E',\n",
       "       '745LE', 'TUCSON', 'SANTA FE', 'SONATA', 'IONIQ', 'A3', 'Q5 E',\n",
       "       'A7', 'A8 E', 'Q5', 'V60', 'S90', 'S60', 'XC60', 'XC90', 'OPTIMA',\n",
       "       'NIRO', 'SORENTO', 'CT6', 'ELR', 'CLARITY', 'ACCORD', 'S-CLASS',\n",
       "       'CORSAIR', 'SF 90 STRADALE', '918', 'P1', 'COUNTRYMAN', 'C-CLASS',\n",
       "       'OUTLANDER', 'NX', 'PS1', 'GLC-CLASS', 'KARMA', 'PANAMERA',\n",
       "       'CROSSTREK', 'REVERO', 'VOLT', 'LEAF', 'BOLT EV', 'GEM', 'E-GOLF',\n",
       "       'I-PACE', '500', 'TAYCAN', 'B-CLASS', 'I-MIEV', 'SPARK', 'FIT',\n",
       "       'MILES ZX40ST', 'TRANSIT CONNECT ELECTRIC', 'CITY', 'RAV4', 'GV60',\n",
       "       'ASPHALT', 'SOLTERRA', 'HARDTOP', 'PS2', 'E-TRON GT', 'XC40',\n",
       "       'RS E-TRON GT', 'LUCID AIR', 'I4', 'ID.4', 'C40', 'MUSTANG MACH-E',\n",
       "       'FOCUS', 'EQ FORTWO', 'FORTWO', 'FORTWO ELECTRIC DRIVE', 'SOUL EV',\n",
       "       'SOUL', 'EV6', 'KONA', 'KONA ELECTRIC', 'IONIQ 5', 'MODEL Y',\n",
       "       'ROADSTER', 'MODEL 3', 'MODEL S', 'X5', 'E-TRON',\n",
       "       'E-TRON SPORTBACK', 'EQS-CLASS SEDAN', 'IX', 'R1T', 'F-150',\n",
       "       'BENTAYGA', 'RANGE ROVER SPORT', 'RANGE ROVER', 'FLYING SPUR',\n",
       "       'GLE-CLASS', 'AVIATOR', 'WRANGLER', 'PACIFICA', 'CAYENNE',\n",
       "       'MODEL X', nan, 'SMITH ELECTRIC VEHICLES', 'TRANSIT',\n",
       "       'E-GEN PLUG IN HYBRID', 'HUMMER', 'FEC7US / ECANTER',\n",
       "       'TRANSIT BUS', 'BOLT EUV', 'BOLT INCOMPLETE', 'RANGER', 'CODA',\n",
       "       'WHEEGO', 'S8', 'SPORTAGE', 'EQS-CLASS SUV', 'LYRIQ', 'R1S',\n",
       "       'EQB-CLASS', 'GRAND CHEROKEE', 'Q4', 'EDV', 'XCELSIOR',\n",
       "       'S-10 PICKUP', 'ELECTRIC BUS', 'BB CONVENTIONAL',\n",
       "       'ALL AMERICAN / ALL CANADA', 'BZ4X', 'HARDTOP 2 DOOR EV',\n",
       "       'RIDE EXV', 'NEV', 'EV', 'THINK NEIGHBOR', 'ACTIVE E', 'ZX40ST',\n",
       "       'C40 RECHARGE', 'G80', 'XC40 RECHARGE', 'ARIYA', 'EQE-CLASS SEDAN',\n",
       "       'MX-30', '5-SERIES PLUG IN', 'Q4 E-TRON', 'Q4 SPORTBACK E-TRON',\n",
       "       'E6', 'UNKNOWN', 'T-SERIES PURE ELECTRIC TERMINAL TRUCK', 'VNR',\n",
       "       'MV60E', '579', 'OTTAWA', 'CHANJE TRUCK', 'LIONC (V1)',\n",
       "       'B2 106 ELECTRIC CONVENTIONAL CHASSIS', 'FREIGHTLINER M2', 'PRIUS',\n",
       "       'BYD ELECTRIC TRUCK', 'LOGISTIC', 'LOW FLOOR BUS', 'PB10E',\n",
       "       'ELECTRIC TRUCK TRACTOR', 'E-100 ALL ELECTRIC'], dtype=object)"
      ]
     },
     "execution_count": 73,
     "metadata": {},
     "output_type": "execute_result"
    }
   ],
   "source": [
    "state_car_models"
   ]
  },
  {
   "cell_type": "code",
   "execution_count": 74,
   "metadata": {},
   "outputs": [
    {
     "data": {
      "text/plain": [
       "array(['MODEL 3 LONG RANGE DUAL MOTOR', 'ID.3 PURE', '2', 'IX3', 'E',\n",
       "       'AIR', 'E-GOLF', 'E-208', 'MODEL 3 STANDARD RANGE PLUS',\n",
       "       'Q4 E-TRON', 'EQC 400 4MATIC', 'LEAF', 'KONA ELECTRIC 64 KWH',\n",
       "       'I4', 'IONIQ ELECTRIC', 'ID.3 PRO S', 'TAYCAN TURBO S', 'E-UP!',\n",
       "       'ZS EV', 'COOPER SE', 'CORSA-E', 'MODEL Y LONG RANGE DUAL MOTOR',\n",
       "       'ENYAQ IV 50', 'E-TRON GT', 'MODEL 3 LONG RANGE PERFORMANCE',\n",
       "       'ID.4', 'ID.3 PRO', 'XC40 P8 AWD RECHARGE', 'I3 120 AH',\n",
       "       'E-2008 SUV', 'E-TRON 50 QUATTRO', 'E-NIRO 64 KWH',\n",
       "       'ZOE ZE50 R110', 'CYBERTRUCK TRI MOTOR', 'MX-30', 'LEAF E+',\n",
       "       'UX 300E', 'EL-BORN', 'ZOE ZE50 R135', 'EQA', 'MODEL S LONG RANGE',\n",
       "       'KONA ELECTRIC 39 KWH', 'E-TRON SPORTBACK 55 QUATTRO',\n",
       "       'CITIGOE IV', 'MII ELECTRIC', 'E-SOUL 64 KWH', 'AMPERA-E',\n",
       "       'TAYCAN 4S', 'ONE', 'U5', 'E-TRON 55 QUATTRO', 'ROADSTER',\n",
       "       'MOKKA-E', 'ENYAQ IV 80', 'MODEL X LONG RANGE', 'E ADVANCE',\n",
       "       '3 CROSSBACK E-TENSE', 'TWINGO ZE', 'E-C4', 'MODEL S PERFORMANCE',\n",
       "       'ZOE ZE40 R110', 'MODEL Y LONG RANGE PERFORMANCE', 'ARIYA 87KWH',\n",
       "       'I-PACE', 'MUSTANG MACH-E ER RWD', 'TAYCAN 4S PLUS',\n",
       "       'E-NV200 EVALIA', 'CYBERTRUCK DUAL MOTOR', 'KANGOO MAXI ZE 33',\n",
       "       'MUSTANG MACH-E ER AWD', 'I3S 120 AH', 'ENYAQ IV 80X',\n",
       "       'TAYCAN CROSS TURISMO', 'M-BYTE 95 KWH 4WD', 'SION',\n",
       "       'E-NIRO 39 KWH', 'Q4 SPORTBACK E-TRON', 'EQ FORFOUR',\n",
       "       'MUSTANG MACH-E SR AWD', 'TAYCAN TURBO', 'ID.3 1ST',\n",
       "       'MODEL X PERFORMANCE', 'EQ FORTWO COUPE', 'MUSTANG MACH-E SR RWD',\n",
       "       'EQV 300 LONG', '500E HATCHBACK', 'CYBERTRUCK SINGLE MOTOR',\n",
       "       'E-TRON SPORTBACK 50 QUATTRO', 'ENYAQ IV VRS', 'ENYAQ IV 60',\n",
       "       'E-TRON S 55 QUATTRO', 'EQ FORTWO CABRIO', 'ARIYA E-4ORCE 87KWH',\n",
       "       '500E CONVERTIBLE', 'ID.3 PRO PERFORMANCE', 'E-SOUL 39 KWH',\n",
       "       'M-BYTE 72 KWH 2WD', 'ARIYA 63KWH',\n",
       "       'E-TRON S SPORTBACK 55 QUATTRO', 'ARIYA E-4ORCE 63KWH',\n",
       "       'ARIYA E-4ORCE 87KWH PERFORMANCE', 'M-BYTE 95 KWH 2WD'],\n",
       "      dtype=object)"
      ]
     },
     "execution_count": 74,
     "metadata": {},
     "output_type": "execute_result"
    }
   ],
   "source": [
    "spec_car_models"
   ]
  },
  {
   "cell_type": "code",
   "execution_count": 75,
   "metadata": {},
   "outputs": [
    {
     "data": {
      "text/plain": [
       "{'E-GOLF',\n",
       " 'E-TRON GT',\n",
       " 'I-PACE',\n",
       " 'I4',\n",
       " 'ID.4',\n",
       " 'LEAF',\n",
       " 'MX-30',\n",
       " 'Q4 E-TRON',\n",
       " 'Q4 SPORTBACK E-TRON',\n",
       " 'ROADSTER'}"
      ]
     },
     "execution_count": 75,
     "metadata": {},
     "output_type": "execute_result"
    }
   ],
   "source": [
    "#intersction of two lists\n",
    "set(state_car_models).intersection(set(spec_car_models))"
   ]
  },
  {
   "cell_type": "code",
   "execution_count": 100,
   "metadata": {},
   "outputs": [
    {
     "data": {
      "text/plain": [
       "[('E', 90),\n",
       " ('MODEL S LONG RANGE', 64),\n",
       " ('MODEL X LONG RANGE', 64),\n",
       " ('MODEL 3 LONG RANGE DUAL MOTOR', 61),\n",
       " ('MODEL 3 LONG RANGE PERFORMANCE', 61)]"
      ]
     },
     "execution_count": 100,
     "metadata": {},
     "output_type": "execute_result"
    }
   ],
   "source": [
    "# find a  string from a list of strings using fuzzywuzzy\n",
    "from fuzzywuzzy import process\n",
    "process.extract(\"WRANGLER\", spec_car_models)\n"
   ]
  },
  {
   "cell_type": "code",
   "execution_count": null,
   "metadata": {},
   "outputs": [],
   "source": []
  }
 ],
 "metadata": {
  "kernelspec": {
   "display_name": "Python 3.10.7 64-bit",
   "language": "python",
   "name": "python3"
  },
  "language_info": {
   "codemirror_mode": {
    "name": "ipython",
    "version": 3
   },
   "file_extension": ".py",
   "mimetype": "text/x-python",
   "name": "python",
   "nbconvert_exporter": "python",
   "pygments_lexer": "ipython3",
   "version": "3.10.7"
  },
  "orig_nbformat": 4,
  "vscode": {
   "interpreter": {
    "hash": "aee8b7b246df8f9039afb4144a1f6fd8d2ca17a180786b69acc140d282b71a49"
   }
  }
 },
 "nbformat": 4,
 "nbformat_minor": 2
}
