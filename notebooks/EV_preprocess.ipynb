{
 "cells": [
  {
   "cell_type": "code",
   "execution_count": 18,
   "metadata": {},
   "outputs": [],
   "source": [
    "import os\n",
    "os.listdir(\"../../../../OneDrive - Western Michigan University/machine learning/project/datasets/state-ev-registration-data/\")\n",
    "path=\"../../../../OneDrive - Western Michigan University/machine learning/project/datasets/state-ev-registration-data/\""
   ]
  },
  {
   "cell_type": "code",
   "execution_count": 19,
   "metadata": {},
   "outputs": [
    {
     "data": {
      "text/plain": [
       "['wa_ev_registrations_public.csv',\n",
       " '.DS_Store',\n",
       " 'NJ_EV_Registrations.csv',\n",
       " 'TX_EV_Registrations.csv',\n",
       " 'ca_ev_registrations_public.csv',\n",
       " 'OR_EV_Registrations.csv',\n",
       " 'wi_ev_registrations_public.csv',\n",
       " 'VT_EV_Registrations.csv',\n",
       " 'NY_EV_Registrations.csv',\n",
       " 'fl_ev_registrations_public.csv',\n",
       " 'MT_EV_Registrations.csv',\n",
       " 'CT_EV_Registrations.csv',\n",
       " 'MN_EV_Registrations.csv',\n",
       " 'TN_EV_Registrations.csv',\n",
       " 'va_ev_registrations_public.csv',\n",
       " 'CO_EV_Registrations.csv']"
      ]
     },
     "execution_count": 19,
     "metadata": {},
     "output_type": "execute_result"
    }
   ],
   "source": [
    "os.listdir(path)"
   ]
  },
  {
   "cell_type": "code",
   "execution_count": 34,
   "metadata": {},
   "outputs": [],
   "source": [
    "import pandas as pd\n",
    "df_or=pd.read_csv(path+\"OR_EV_Registrations.csv\")"
   ]
  },
  {
   "cell_type": "code",
   "execution_count": 45,
   "metadata": {},
   "outputs": [],
   "source": [
    "df_col_base=df_or.columns.to_list()"
   ]
  },
  {
   "cell_type": "code",
   "execution_count": 51,
   "metadata": {},
   "outputs": [
    {
     "data": {
      "text/plain": [
       "['State',\n",
       " 'ZIP Code',\n",
       " 'Registration Date',\n",
       " 'Vehicle Make',\n",
       " 'Vehicle Model',\n",
       " 'Vehicle Model Year',\n",
       " 'Drivetrain Type',\n",
       " 'Vehicle GVWR Class',\n",
       " 'Vehicle Category',\n",
       " 'Vehicle Count',\n",
       " 'DMV Snapshot (Date)',\n",
       " 'DMV Snapshot ID',\n",
       " 'Latest DMV Snapshot Flag']"
      ]
     },
     "execution_count": 51,
     "metadata": {},
     "output_type": "execute_result"
    }
   ],
   "source": [
    "df_col_base"
   ]
  },
  {
   "cell_type": "code",
   "execution_count": 50,
   "metadata": {},
   "outputs": [
    {
     "data": {
      "text/plain": [
       "True"
      ]
     },
     "execution_count": 50,
     "metadata": {},
     "output_type": "execute_result"
    }
   ],
   "source": [
    "# check for certain list of strings in a list of strings\n",
    "def check_list(list1, list2):\n",
    "    for i in list1:\n",
    "        for j in list2:\n",
    "            if i in j:\n",
    "                return True\n",
    "    return False    \n",
    "\n",
    "\n"
   ]
  },
  {
   "cell_type": "code",
   "execution_count": 65,
   "metadata": {},
   "outputs": [
    {
     "name": "stdout",
     "output_type": "stream",
     "text": [
      "wa_ev_registrations_public.csv\n",
      "ca_ev_registrations_public.csv\n",
      "wi_ev_registrations_public.csv\n",
      "fl_ev_registrations_public.csv\n",
      "va_ev_registrations_public.csv\n"
     ]
    }
   ],
   "source": [
    "\n",
    "import os\n",
    "import pandas as pd\n",
    "path=\"../../../../OneDrive - Western Michigan University/machine learning/project/datasets/state-ev-registration-data/\"\n",
    "os.listdir(path)\n",
    "base_col=['State',\n",
    " 'Vehicle Make',\n",
    " 'Vehicle Model',\n",
    " 'Vehicle Model Year']\n",
    "df_combined=pd.DataFrame()\n",
    "\n",
    "for data in os.listdir(path):\n",
    "    if data.endswith(\".csv\"):\n",
    "        df=pd.read_csv(path+data,low_memory=False)\n",
    "        # if check_list(base_col,df.columns.to_list()):\n",
    "        try:\n",
    "            df_combined=pd.concat([df_combined,df.loc[:,base_col]],ignore_index=True)\n",
    "        except:\n",
    "            print(data)\n",
    "            continue\n",
    "        # print(df.column)"
   ]
  },
  {
   "cell_type": "code",
   "execution_count": 66,
   "metadata": {},
   "outputs": [
    {
     "data": {
      "text/html": [
       "<div>\n",
       "<style scoped>\n",
       "    .dataframe tbody tr th:only-of-type {\n",
       "        vertical-align: middle;\n",
       "    }\n",
       "\n",
       "    .dataframe tbody tr th {\n",
       "        vertical-align: top;\n",
       "    }\n",
       "\n",
       "    .dataframe thead th {\n",
       "        text-align: right;\n",
       "    }\n",
       "</style>\n",
       "<table border=\"1\" class=\"dataframe\">\n",
       "  <thead>\n",
       "    <tr style=\"text-align: right;\">\n",
       "      <th></th>\n",
       "      <th>State</th>\n",
       "      <th>Vehicle Make</th>\n",
       "      <th>Vehicle Model</th>\n",
       "      <th>Vehicle Model Year</th>\n",
       "    </tr>\n",
       "  </thead>\n",
       "  <tbody>\n",
       "    <tr>\n",
       "      <th>4137728</th>\n",
       "      <td>NY</td>\n",
       "      <td>TESLA</td>\n",
       "      <td>Model 3</td>\n",
       "      <td>2018.0</td>\n",
       "    </tr>\n",
       "    <tr>\n",
       "      <th>4118228</th>\n",
       "      <td>NY</td>\n",
       "      <td>TESLA</td>\n",
       "      <td>Model 3</td>\n",
       "      <td>2019.0</td>\n",
       "    </tr>\n",
       "    <tr>\n",
       "      <th>300355</th>\n",
       "      <td>TX</td>\n",
       "      <td>TESLA</td>\n",
       "      <td>Model 3</td>\n",
       "      <td>2019.0</td>\n",
       "    </tr>\n",
       "    <tr>\n",
       "      <th>502591</th>\n",
       "      <td>TX</td>\n",
       "      <td>TESLA</td>\n",
       "      <td>Model S</td>\n",
       "      <td>2017.0</td>\n",
       "    </tr>\n",
       "    <tr>\n",
       "      <th>1452090</th>\n",
       "      <td>TX</td>\n",
       "      <td>AUDI</td>\n",
       "      <td>e-tron Sportback</td>\n",
       "      <td>2021.0</td>\n",
       "    </tr>\n",
       "  </tbody>\n",
       "</table>\n",
       "</div>"
      ],
      "text/plain": [
       "        State Vehicle Make     Vehicle Model  Vehicle Model Year\n",
       "4137728    NY        TESLA           Model 3              2018.0\n",
       "4118228    NY        TESLA           Model 3              2019.0\n",
       "300355     TX        TESLA           Model 3              2019.0\n",
       "502591     TX        TESLA           Model S              2017.0\n",
       "1452090    TX         AUDI  e-tron Sportback              2021.0"
      ]
     },
     "execution_count": 66,
     "metadata": {},
     "output_type": "execute_result"
    }
   ],
   "source": [
    "df_combined.sample(5)"
   ]
  },
  {
   "cell_type": "code",
   "execution_count": 64,
   "metadata": {},
   "outputs": [],
   "source": [
    "\n",
    "df_combined.to_csv(\"../../../../OneDrive - Western Michigan University/machine learning/project/datasets/\"+\"/combined_OR_Style.csv\",index=False)"
   ]
  },
  {
   "cell_type": "code",
   "execution_count": 67,
   "metadata": {},
   "outputs": [
    {
     "data": {
      "text/plain": [
       "array(['NJ', 'TX', 'OR', 'VT', 'NY', 'MT', 'CT', 'MN', 'TN', 'CO'],\n",
       "      dtype=object)"
      ]
     },
     "execution_count": 67,
     "metadata": {},
     "output_type": "execute_result"
    }
   ],
   "source": [
    "df_combined.State.unique()"
   ]
  },
  {
   "cell_type": "code",
   "execution_count": 68,
   "metadata": {},
   "outputs": [
    {
     "name": "stdout",
     "output_type": "stream",
     "text": [
      "<class 'pandas.core.frame.DataFrame'>\n",
      "RangeIndex: 7168726 entries, 0 to 7168725\n",
      "Data columns (total 4 columns):\n",
      " #   Column              Dtype  \n",
      "---  ------              -----  \n",
      " 0   State               object \n",
      " 1   Vehicle Make        object \n",
      " 2   Vehicle Model       object \n",
      " 3   Vehicle Model Year  float64\n",
      "dtypes: float64(1), object(3)\n",
      "memory usage: 218.8+ MB\n"
     ]
    }
   ],
   "source": [
    "df_combined.info()"
   ]
  },
  {
   "cell_type": "code",
   "execution_count": null,
   "metadata": {},
   "outputs": [],
   "source": []
  }
 ],
 "metadata": {
  "kernelspec": {
   "display_name": "Python 3.10.7 64-bit",
   "language": "python",
   "name": "python3"
  },
  "language_info": {
   "codemirror_mode": {
    "name": "ipython",
    "version": 3
   },
   "file_extension": ".py",
   "mimetype": "text/x-python",
   "name": "python",
   "nbconvert_exporter": "python",
   "pygments_lexer": "ipython3",
   "version": "3.10.7"
  },
  "orig_nbformat": 4,
  "vscode": {
   "interpreter": {
    "hash": "aee8b7b246df8f9039afb4144a1f6fd8d2ca17a180786b69acc140d282b71a49"
   }
  }
 },
 "nbformat": 4,
 "nbformat_minor": 2
}
